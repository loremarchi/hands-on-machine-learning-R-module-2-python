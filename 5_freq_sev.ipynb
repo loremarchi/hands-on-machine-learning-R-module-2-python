{
 "cells": [
  {
   "cell_type": "markdown",
   "metadata": {},
   "source": [
    "# 5. Claim Frequency and Severity Modelling"
   ]
  },
  {
   "cell_type": "markdown",
   "metadata": {},
   "source": [
    "Usually, Poisson GLM is used to model claim frequency. We now investigate the possibility to use decision trees to model claim counts using a Poisson loss function."
   ]
  },
  {
   "cell_type": "markdown",
   "metadata": {},
   "source": [
    "Description of ```tree.DecisionTreeRegressor``` parametrization:\n",
    "* criterion: the function to measure the quality of a split.\n",
    "* splitter: the strategy used to choose the split at each node. \n",
    "* max_depth: the maximum depth of the tree. If None, then nodes are expanded until all leaves are pure or until all leaves contain less than min_samples_split samples.\n",
    "* min_samples_split (default =2): minimum number of samples required to split an internal node.\n",
    "* min_samples_leaf (default =1): The minimum number of samples required to be at a leaf node.\n",
    "* min_weight_fraction_leaf (default =0.0): The minimum weighted fraction of the sum total of weights (of all the input samples) required to be at a leaf node.\n",
    "* max_features(default =None, but auto is valid choice): The number of features to consider when looking for the best split.\n",
    "* ccp_alpha: Complexity parameter used for Minimal Cost-Complexity Pruning"
   ]
  },
  {
   "cell_type": "code",
   "execution_count": 9,
   "metadata": {},
   "outputs": [],
   "source": [
    "import matplotlib.pyplot as plt\n",
    "import seaborn as sns\n",
    "import pandas as pd\n",
    "import numpy as np\n",
    "import os"
   ]
  },
  {
   "cell_type": "code",
   "execution_count": 10,
   "metadata": {},
   "outputs": [
    {
     "data": {
      "text/html": [
       "<div>\n",
       "<style scoped>\n",
       "    .dataframe tbody tr th:only-of-type {\n",
       "        vertical-align: middle;\n",
       "    }\n",
       "\n",
       "    .dataframe tbody tr th {\n",
       "        vertical-align: top;\n",
       "    }\n",
       "\n",
       "    .dataframe thead th {\n",
       "        text-align: right;\n",
       "    }\n",
       "</style>\n",
       "<table border=\"1\" class=\"dataframe\">\n",
       "  <thead>\n",
       "    <tr style=\"text-align: right;\">\n",
       "      <th></th>\n",
       "      <th>nclaims</th>\n",
       "      <th>amount</th>\n",
       "      <th>avg</th>\n",
       "      <th>exp</th>\n",
       "      <th>coverage</th>\n",
       "      <th>fuel</th>\n",
       "      <th>use</th>\n",
       "      <th>fleet</th>\n",
       "      <th>sex</th>\n",
       "      <th>ageph</th>\n",
       "      <th>bm</th>\n",
       "      <th>agec</th>\n",
       "      <th>power</th>\n",
       "      <th>pc</th>\n",
       "      <th>town</th>\n",
       "      <th>long</th>\n",
       "      <th>lat</th>\n",
       "    </tr>\n",
       "  </thead>\n",
       "  <tbody>\n",
       "    <tr>\n",
       "      <th>0</th>\n",
       "      <td>1</td>\n",
       "      <td>1618.001036</td>\n",
       "      <td>1618.001036</td>\n",
       "      <td>1.000000</td>\n",
       "      <td>TPL</td>\n",
       "      <td>gasoline</td>\n",
       "      <td>private</td>\n",
       "      <td>N</td>\n",
       "      <td>male</td>\n",
       "      <td>50</td>\n",
       "      <td>5</td>\n",
       "      <td>12</td>\n",
       "      <td>77</td>\n",
       "      <td>1000</td>\n",
       "      <td>BRUSSEL</td>\n",
       "      <td>4.355223</td>\n",
       "      <td>50.845386</td>\n",
       "    </tr>\n",
       "    <tr>\n",
       "      <th>1</th>\n",
       "      <td>0</td>\n",
       "      <td>0.000000</td>\n",
       "      <td>NaN</td>\n",
       "      <td>1.000000</td>\n",
       "      <td>PO</td>\n",
       "      <td>gasoline</td>\n",
       "      <td>private</td>\n",
       "      <td>N</td>\n",
       "      <td>female</td>\n",
       "      <td>64</td>\n",
       "      <td>5</td>\n",
       "      <td>3</td>\n",
       "      <td>66</td>\n",
       "      <td>1000</td>\n",
       "      <td>BRUSSEL</td>\n",
       "      <td>4.355223</td>\n",
       "      <td>50.845386</td>\n",
       "    </tr>\n",
       "    <tr>\n",
       "      <th>2</th>\n",
       "      <td>0</td>\n",
       "      <td>0.000000</td>\n",
       "      <td>NaN</td>\n",
       "      <td>1.000000</td>\n",
       "      <td>TPL</td>\n",
       "      <td>diesel</td>\n",
       "      <td>private</td>\n",
       "      <td>N</td>\n",
       "      <td>male</td>\n",
       "      <td>60</td>\n",
       "      <td>0</td>\n",
       "      <td>10</td>\n",
       "      <td>70</td>\n",
       "      <td>1000</td>\n",
       "      <td>BRUSSEL</td>\n",
       "      <td>4.355223</td>\n",
       "      <td>50.845386</td>\n",
       "    </tr>\n",
       "    <tr>\n",
       "      <th>3</th>\n",
       "      <td>0</td>\n",
       "      <td>0.000000</td>\n",
       "      <td>NaN</td>\n",
       "      <td>1.000000</td>\n",
       "      <td>TPL</td>\n",
       "      <td>gasoline</td>\n",
       "      <td>private</td>\n",
       "      <td>N</td>\n",
       "      <td>male</td>\n",
       "      <td>77</td>\n",
       "      <td>0</td>\n",
       "      <td>15</td>\n",
       "      <td>57</td>\n",
       "      <td>1000</td>\n",
       "      <td>BRUSSEL</td>\n",
       "      <td>4.355223</td>\n",
       "      <td>50.845386</td>\n",
       "    </tr>\n",
       "    <tr>\n",
       "      <th>4</th>\n",
       "      <td>1</td>\n",
       "      <td>155.974606</td>\n",
       "      <td>155.974606</td>\n",
       "      <td>0.046575</td>\n",
       "      <td>TPL</td>\n",
       "      <td>gasoline</td>\n",
       "      <td>private</td>\n",
       "      <td>N</td>\n",
       "      <td>female</td>\n",
       "      <td>28</td>\n",
       "      <td>9</td>\n",
       "      <td>7</td>\n",
       "      <td>70</td>\n",
       "      <td>1000</td>\n",
       "      <td>BRUSSEL</td>\n",
       "      <td>4.355223</td>\n",
       "      <td>50.845386</td>\n",
       "    </tr>\n",
       "  </tbody>\n",
       "</table>\n",
       "</div>"
      ],
      "text/plain": [
       "   nclaims       amount          avg       exp coverage      fuel      use  \\\n",
       "0        1  1618.001036  1618.001036  1.000000      TPL  gasoline  private   \n",
       "1        0     0.000000          NaN  1.000000       PO  gasoline  private   \n",
       "2        0     0.000000          NaN  1.000000      TPL    diesel  private   \n",
       "3        0     0.000000          NaN  1.000000      TPL  gasoline  private   \n",
       "4        1   155.974606   155.974606  0.046575      TPL  gasoline  private   \n",
       "\n",
       "  fleet     sex  ageph  bm  agec  power    pc     town      long        lat  \n",
       "0     N    male     50   5    12     77  1000  BRUSSEL  4.355223  50.845386  \n",
       "1     N  female     64   5     3     66  1000  BRUSSEL  4.355223  50.845386  \n",
       "2     N    male     60   0    10     70  1000  BRUSSEL  4.355223  50.845386  \n",
       "3     N    male     77   0    15     57  1000  BRUSSEL  4.355223  50.845386  \n",
       "4     N  female     28   9     7     70  1000  BRUSSEL  4.355223  50.845386  "
      ]
     },
     "execution_count": 10,
     "metadata": {},
     "output_type": "execute_result"
    }
   ],
   "source": [
    "df = pd.read_csv(r'.\\data\\PC_data.txt', sep = '\\s+')\n",
    "df.columns = map(str.lower, df.columns)\n",
    "df = df.drop('id', axis = 1)\n",
    "df.head()"
   ]
  },
  {
   "cell_type": "code",
   "execution_count": 11,
   "metadata": {},
   "outputs": [],
   "source": [
    "# converting type(str) columns to categorical\n",
    "df['coverage'] = df['coverage'].astype('category').cat.codes\n",
    "df['fleet'] = df['fleet'].astype('category').cat.codes\n",
    "df['sex'] = df['sex'].astype('category').cat.codes\n",
    "df['town'] = df['town'].astype('category').cat.codes\n",
    "df['fuel'] = df['fuel'].astype('category').cat.codes\n",
    "df['use'] = df['use'].astype('category').cat.codes"
   ]
  },
  {
   "cell_type": "code",
   "execution_count": 12,
   "metadata": {},
   "outputs": [],
   "source": [
    "exp = df['exp']\n",
    "y = np.array(df['nclaims']/df['exp'])\n",
    "x = np.array(df[['bm','ageph','agec','power','coverage','fuel','sex','fleet','use']])\n",
    "col_names = ['ageph','agec','bm','power','coverage','fuel','sex','fleet','use']"
   ]
  },
  {
   "cell_type": "markdown",
   "metadata": {},
   "source": [
    "Since there is no convenient way to implement the exposure in the Poisson regression tree. Therefore, we divide the response by the exposure and we fit regression tree minimizing MSE and setting weights = exposure term."
   ]
  },
  {
   "cell_type": "code",
   "execution_count": 5,
   "metadata": {},
   "outputs": [],
   "source": [
    "from sklearn import metrics\n",
    "from sklearn import tree"
   ]
  },
  {
   "cell_type": "code",
   "execution_count": 6,
   "metadata": {},
   "outputs": [],
   "source": [
    "rgf_dt = tree.DecisionTreeRegressor(criterion=\"mse\", max_depth = 3,\n",
    "                                      min_samples_split = 10,\n",
    "                                      min_samples_leaf = 10,\n",
    "                                      ccp_alpha = 0, splitter=\"best\").fit(x,y,exp)"
   ]
  },
  {
   "cell_type": "markdown",
   "metadata": {},
   "source": [
    "We can provide a stylized representation of the Regression Tree via ```export_text()``` built-in method:"
   ]
  },
  {
   "cell_type": "code",
   "execution_count": 7,
   "metadata": {},
   "outputs": [
    {
     "name": "stdout",
     "output_type": "stream",
     "text": [
      "|--- ageph <= 6.50\n",
      "|   |--- ageph <= 1.50\n",
      "|   |   |--- agec <= 55.50\n",
      "|   |   |   |--- value: [0.12]\n",
      "|   |   |--- agec >  55.50\n",
      "|   |   |   |--- value: [0.09]\n",
      "|   |--- ageph >  1.50\n",
      "|   |   |--- agec <= 57.50\n",
      "|   |   |   |--- value: [0.15]\n",
      "|   |   |--- agec >  57.50\n",
      "|   |   |   |--- value: [0.12]\n",
      "|--- ageph >  6.50\n",
      "|   |--- ageph <= 10.50\n",
      "|   |   |--- agec <= 26.50\n",
      "|   |   |   |--- value: [0.24]\n",
      "|   |   |--- agec >  26.50\n",
      "|   |   |   |--- value: [0.19]\n",
      "|   |--- ageph >  10.50\n",
      "|   |   |--- bm <= 6.50\n",
      "|   |   |   |--- value: [0.23]\n",
      "|   |   |--- bm >  6.50\n",
      "|   |   |   |--- value: [0.29]\n",
      "\n"
     ]
    }
   ],
   "source": [
    "text_representation = tree.export_text(rgf_dt, feature_names = col_names)\n",
    "print(text_representation)"
   ]
  },
  {
   "cell_type": "markdown",
   "metadata": {},
   "source": [
    "We can provide a graphic representation of the Regression Tree via ```plot_treet()``` built-in method:"
   ]
  },
  {
   "cell_type": "code",
   "execution_count": 8,
   "metadata": {},
   "outputs": [
    {
     "data": {
      "image/png": "[encoded data removed]",
      "text/plain": [
       "<Figure size 864x864 with 1 Axes>"
      ]
     },
     "metadata": {
      "needs_background": "light"
     },
     "output_type": "display_data"
    }
   ],
   "source": [
    "%matplotlib inline\n",
    "plt.figure(figsize=(12,12))\n",
    "_ = tree.plot_tree(rgf_dt, \n",
    "                   feature_names = col_names,\n",
    "                   filled = True)"
   ]
  },
  {
   "cell_type": "markdown",
   "metadata": {},
   "source": [
    "It is possible to retrieve all samples the fell into the nodes. In order to do so, we implement a custom function to provide a new stylized representation of the Regression Tree retaining more information and non-rounded leaf values:"
   ]
  },
  {
   "cell_type": "code",
   "execution_count": 837,
   "metadata": {},
   "outputs": [
    {
     "name": "stdout",
     "output_type": "stream",
     "text": [
      "The binary tree structure has 7 nodes and has the following tree structure:\n",
      "node=0 test node: go to node 1 if X[:, 0] <= 18.5 else to node 2.\n",
      "\t*node=1 leaf node. Value here is: [[1.08180202]]\n",
      "\tnode=2 test node: go to node 3 if X[:, 1] <= 32.5 else to node 6.\n",
      "\t\tnode=3 test node: go to node 4 if X[:, 0] <= 91.5 else to node 5.\n",
      "\t\t\t*node=4 leaf node. Value here is: [[0.13938908]]\n",
      "\t\t\t*node=5 leaf node. Value here is: [[0.05205362]]\n",
      "\t\t*node=6 leaf node. Value here is: [[0.01212021]]\n"
     ]
    }
   ],
   "source": [
    "n_nodes = rgf_dt.tree_.node_count\n",
    "children_left = rgf_dt.tree_.children_left\n",
    "children_right = rgf_dt.tree_.children_right\n",
    "feature = rgf_dt.tree_.feature\n",
    "threshold = rgf_dt.tree_.threshold\n",
    "value = rgf_dt.tree_.value\n",
    "\n",
    "# The tree structure can be traversed to compute various properties such\n",
    "# as the depth of each node and whether or not it is a leaf.\n",
    "node_depth = np.zeros(shape=n_nodes, dtype=np.int64)\n",
    "is_leaves = np.zeros(shape=n_nodes, dtype=bool)\n",
    "stack = [(0, -1)]  # seed is the root node id and its parent depth\n",
    "while len(stack) > 0:\n",
    "    node_id, parent_depth = stack.pop()\n",
    "    node_depth[node_id] = parent_depth + 1\n",
    "\n",
    "    # If we have a test node\n",
    "    if (children_left[node_id] != children_right[node_id]):\n",
    "        stack.append((children_left[node_id], parent_depth + 1))\n",
    "        stack.append((children_right[node_id], parent_depth + 1))\n",
    "    else:\n",
    "        is_leaves[node_id] = True\n",
    "\n",
    "\n",
    "print(\"The binary tree structure has %s nodes and has \"\n",
    "      \"the following tree structure:\"\n",
    "      % n_nodes)\n",
    "for i in range(n_nodes):\n",
    "    if is_leaves[i]:\n",
    "        print(\"%s*node=%s leaf node. Value here is: %s\" % (node_depth[i] * \"\\t\", i, value[i]))\n",
    "    else:\n",
    "        print(\"%snode=%s test node: go to node %s if X[:, %s] <= %s else to \"\n",
    "              \"node %s.\"\n",
    "              % (node_depth[i] * \"\\t\",\n",
    "                 i,\n",
    "                 children_left[i],\n",
    "                 feature[i],\n",
    "                 threshold[i],\n",
    "                 children_right[i],\n",
    "                 ))"
   ]
  },
  {
   "cell_type": "markdown",
   "metadata": {},
   "source": [
    "We subset the dataset to verify whether the prediction in a leaf node is what you would expect:\n",
    "* take the node ```bm <= 1.5``` and ```ageph > 55.50```  \n",
    "* Calculate the expected claim frequency as ```sum(nclaims)/sum(expo)```\n",
    "* Compare it with the correspondent leaf prediction"
   ]
  },
  {
   "cell_type": "code",
   "execution_count": 680,
   "metadata": {},
   "outputs": [],
   "source": [
    "# subsetting the dataset\n",
    "sub_df = df.loc[(df.bm<=1.5)&(df.ageph>55.50)]"
   ]
  },
  {
   "cell_type": "code",
   "execution_count": 681,
   "metadata": {},
   "outputs": [],
   "source": [
    "# calculate the expected claim frequency (rounding by 8)\n",
    "exp_cf = np.round(np.sum(sub_df.nclaims)/np.sum(sub_df.exp),8)"
   ]
  },
  {
   "cell_type": "code",
   "execution_count": 682,
   "metadata": {},
   "outputs": [
    {
     "name": "stdout",
     "output_type": "stream",
     "text": [
      "Expected claim frequency: 0.08898655, Predicted claim frequency in leaf: 0.08898655\n"
     ]
    }
   ],
   "source": [
    "# compare the expected claim frequency and the predicted claim frequency in the leaf\n",
    "print(f'Expected claim frequency: {exp_cf}, Predicted claim frequency in leaf: {np.round(float(rgf_dt.tree_.value[4]),8)}')"
   ]
  },
  {
   "cell_type": "markdown",
   "metadata": {},
   "source": [
    "### 5.1 Pruning Trees with cost complexity"
   ]
  },
  {
   "cell_type": "markdown",
   "metadata": {},
   "source": [
    "The DecisionTreeClassifier provides parameters such as ```min_samples_leaf``` and ```max_depth``` to prevent a tree from overfiting. Cost complexity pruning provides another option to control the size of a tree."
   ]
  },
  {
   "cell_type": "markdown",
   "metadata": {},
   "source": [
    "this pruning technique is parameterized by the cost complexity parameter, ```ccp_alpha```. Greater values of ```ccp_alpha``` increase the number of nodes pruned. Here we only show the effect of ccp_alpha on regularizing the trees and how to choose a ccp_alpha based on validation scores."
   ]
  },
  {
   "cell_type": "markdown",
   "metadata": {},
   "source": [
    "Minimal cost complexity pruning recursively finds the node with the “weakest link”. The weakest link is characterized by an effective alpha, where the nodes with the smallest effective alpha are pruned first. To get an idea of what values of ```ccp_alpha``` could be appropriate, scikit-learn provides ```DecisionTreeRegressor.cost_complexity_pruning_path``` that returns the effective alphas and the corresponding total leaf impurities at each step of the pruning process. As alpha increases, more of the tree is pruned, which increases the total impurity of its leaves."
   ]
  },
  {
   "cell_type": "code",
   "execution_count": 817,
   "metadata": {},
   "outputs": [],
   "source": [
    "path = rgf_dt.cost_complexity_pruning_path(x, y, exp)\n",
    "ccp_alphas, impurities = path.ccp_alphas, path.impurities"
   ]
  },
  {
   "cell_type": "code",
   "execution_count": 818,
   "metadata": {},
   "outputs": [
    {
     "data": {
      "text/plain": [
       "Text(0.5, 1.0, 'Total Impurity vs effective alpha for training set')"
      ]
     },
     "execution_count": 818,
     "metadata": {},
     "output_type": "execute_result"
    },
    {
     "data": {
      "image/png": "[encoded data removed]",
      "text/plain": [
       "<Figure size 432x288 with 1 Axes>"
      ]
     },
     "metadata": {
      "needs_background": "light"
     },
     "output_type": "display_data"
    }
   ],
   "source": [
    "%matplotlib inline\n",
    "fig, ax = plt.subplots()\n",
    "ax.plot(ccp_alphas[:-1], impurities[:-1], marker='o', drawstyle=\"steps-post\")\n",
    "ax.set_xlabel(\"effective alpha\")\n",
    "ax.set_ylabel(\"total impurity of leaves\")\n",
    "ax.set_title(\"Total Impurity vs effective alpha for training set\")"
   ]
  },
  {
   "cell_type": "markdown",
   "metadata": {},
   "source": [
    "We train a decision tree using the effective alphas."
   ]
  },
  {
   "cell_type": "code",
   "execution_count": 819,
   "metadata": {},
   "outputs": [],
   "source": [
    "clfs = []\n",
    "for ccp_alpha in ccp_alphas:\n",
    "    clf = tree.DecisionTreeRegressor(criterion=\"mse\", max_depth = 30,\n",
    "                                      min_samples_split = 2000,\n",
    "                                      min_samples_leaf = 1000,\n",
    "                                      ccp_alpha = ccp_alpha, splitter=\"best\").fit(x,y,exp)\n",
    "    clfs.append(clf)"
   ]
  },
  {
   "cell_type": "code",
   "execution_count": 808,
   "metadata": {},
   "outputs": [
    {
     "name": "stdout",
     "output_type": "stream",
     "text": [
      "Number of nodes in the last tree is: 7 with ccp_alpha: 0.0002247868330777364\n"
     ]
    }
   ],
   "source": [
    "print(f\"Number of nodes in the last tree is: {clfs[-1].tree_.node_count} with ccp_alpha: {ccp_alphas[-1]}\")"
   ]
  },
  {
   "cell_type": "markdown",
   "metadata": {},
   "source": [
    "We remove the last element in clfs and ccp_alphas, because it is the trivial tree with only one node. Here we show that the number of nodes and tree depth decreases as alpha increases."
   ]
  },
  {
   "cell_type": "code",
   "execution_count": 809,
   "metadata": {},
   "outputs": [
    {
     "data": {
      "image/png": "[encoded data removed]",
      "text/plain": [
       "<Figure size 432x288 with 2 Axes>"
      ]
     },
     "metadata": {
      "needs_background": "light"
     },
     "output_type": "display_data"
    }
   ],
   "source": [
    "clfs = clfs[:-1]\n",
    "ccp_alphas = ccp_alphas[:-1]\n",
    "\n",
    "node_counts = [clf.tree_.node_count for clf in clfs]\n",
    "depth = [clf.tree_.max_depth for clf in clfs]\n",
    "\n",
    "fig, ax = plt.subplots(2, 1)\n",
    "ax[0].plot(ccp_alphas, node_counts, marker='o', drawstyle=\"steps-post\")\n",
    "ax[0].set_xlabel(\"alpha\")\n",
    "ax[0].set_ylabel(\"number of nodes\")\n",
    "ax[0].set_title(\"Number of nodes vs alpha\")\n",
    "ax[1].plot(ccp_alphas, depth, marker='o', drawstyle=\"steps-post\")\n",
    "ax[1].set_xlabel(\"alpha\")\n",
    "ax[1].set_ylabel(\"depth of tree\")\n",
    "ax[1].set_title(\"Depth vs alpha\")\n",
    "fig.tight_layout()"
   ]
  },
  {
   "cell_type": "code",
   "execution_count": 811,
   "metadata": {},
   "outputs": [],
   "source": [
    "from sklearn.metrics import mean_absolute_error, mean_squared_error, r2_score\n",
    "from sklearn.model_selection import cross_val_score\n",
    "\n",
    "alpha_loop_values = []\n",
    "for ccp_alpha in ccp_alphas:\n",
    "    regr_dt = tree.DecisionTreeRegressor(criterion=\"mse\", max_depth = 30,\n",
    "                                      min_samples_split = 2000,\n",
    "                                      min_samples_leaf = 1000,\n",
    "                                      ccp_alpha = ccp_alpha, splitter = 'best').fit(x, y, exp)\n",
    "    \n",
    "    predictions = regr_dt.predict(x)\n",
    "    cvs = np.mean(cross_val_score(regr_dt, x, y, cv = 5, scoring='neg_mean_squared_error'))\n",
    "    node_counts = regr_dt.tree_.node_count\n",
    "    depth = regr_dt.tree_.max_depth\n",
    "    \n",
    "    alpha_loop_values.append([ccp_alpha, node_counts, depth,\n",
    "                              cvs])"
   ]
  },
  {
   "cell_type": "code",
   "execution_count": 812,
   "metadata": {},
   "outputs": [
    {
     "data": {
      "text/html": [
       "<div>\n",
       "<style scoped>\n",
       "    .dataframe tbody tr th:only-of-type {\n",
       "        vertical-align: middle;\n",
       "    }\n",
       "\n",
       "    .dataframe tbody tr th {\n",
       "        vertical-align: top;\n",
       "    }\n",
       "\n",
       "    .dataframe thead th {\n",
       "        text-align: right;\n",
       "    }\n",
       "</style>\n",
       "<table border=\"1\" class=\"dataframe\">\n",
       "  <thead>\n",
       "    <tr style=\"text-align: right;\">\n",
       "      <th></th>\n",
       "      <th>alpha</th>\n",
       "      <th>node_counts</th>\n",
       "      <th>depth</th>\n",
       "      <th>cvs</th>\n",
       "    </tr>\n",
       "  </thead>\n",
       "  <tbody>\n",
       "    <tr>\n",
       "      <th>0</th>\n",
       "      <td>0.000000</td>\n",
       "      <td>247</td>\n",
       "      <td>13</td>\n",
       "      <td>0.950788</td>\n",
       "    </tr>\n",
       "    <tr>\n",
       "      <th>1</th>\n",
       "      <td>0.000044</td>\n",
       "      <td>13</td>\n",
       "      <td>3</td>\n",
       "      <td>0.950614</td>\n",
       "    </tr>\n",
       "    <tr>\n",
       "      <th>2</th>\n",
       "      <td>0.000049</td>\n",
       "      <td>13</td>\n",
       "      <td>3</td>\n",
       "      <td>0.950610</td>\n",
       "    </tr>\n",
       "    <tr>\n",
       "      <th>3</th>\n",
       "      <td>0.000065</td>\n",
       "      <td>11</td>\n",
       "      <td>3</td>\n",
       "      <td>0.950628</td>\n",
       "    </tr>\n",
       "    <tr>\n",
       "      <th>4</th>\n",
       "      <td>0.000096</td>\n",
       "      <td>9</td>\n",
       "      <td>3</td>\n",
       "      <td>0.950697</td>\n",
       "    </tr>\n",
       "  </tbody>\n",
       "</table>\n",
       "</div>"
      ],
      "text/plain": [
       "      alpha  node_counts  depth       cvs\n",
       "0  0.000000          247     13  0.950788\n",
       "1  0.000044           13      3  0.950614\n",
       "2  0.000049           13      3  0.950610\n",
       "3  0.000065           11      3  0.950628\n",
       "4  0.000096            9      3  0.950697"
      ]
     },
     "execution_count": 812,
     "metadata": {},
     "output_type": "execute_result"
    }
   ],
   "source": [
    "alpha_results = pd.DataFrame(alpha_loop_values, \n",
    "                         columns=['alpha', 'node_counts', 'depth','cvs'])\n",
    "\n",
    "# taking absolute value of cvs\n",
    "alpha_results['cvs'] = np.abs(alpha_results.cvs)\n",
    "alpha_results"
   ]
  },
  {
   "cell_type": "code",
   "execution_count": 813,
   "metadata": {},
   "outputs": [],
   "source": [
    "alpha_results = alpha_results.loc[(alpha_results['cvs']==np.min(alpha_results['cvs']))]\n",
    "best_alpha = alpha_results.loc[(alpha_results['depth']==np.max(alpha_results['depth']))]"
   ]
  },
  {
   "cell_type": "code",
   "execution_count": 815,
   "metadata": {},
   "outputs": [],
   "source": [
    "regr_dt = tree.DecisionTreeRegressor(criterion=\"mse\", max_depth = int(best_alpha.depth),\n",
    "                                      min_samples_split = 2000,\n",
    "                                      min_samples_leaf = 1000,\n",
    "                                      ccp_alpha = float(best_alpha.alpha), splitter = 'best').fit(x, y, exp)\n",
    "y_deep_tree = regr_dt.predict(x)"
   ]
  },
  {
   "cell_type": "code",
   "execution_count": 816,
   "metadata": {},
   "outputs": [
    {
     "name": "stdout",
     "output_type": "stream",
     "text": [
      "|--- bm <= 6.50\n",
      "|   |--- bm <= 1.50\n",
      "|   |   |--- ageph <= 55.50\n",
      "|   |   |   |--- value: [0.12]\n",
      "|   |   |--- ageph >  55.50\n",
      "|   |   |   |--- value: [0.09]\n",
      "|   |--- bm >  1.50\n",
      "|   |   |--- ageph <= 57.50\n",
      "|   |   |   |--- value: [0.15]\n",
      "|   |   |--- ageph >  57.50\n",
      "|   |   |   |--- value: [0.12]\n",
      "|--- bm >  6.50\n",
      "|   |--- bm <= 10.50\n",
      "|   |   |--- ageph <= 26.50\n",
      "|   |   |   |--- value: [0.24]\n",
      "|   |   |--- ageph >  26.50\n",
      "|   |   |   |--- value: [0.19]\n",
      "|   |--- bm >  10.50\n",
      "|   |   |--- value: [0.27]\n",
      "\n"
     ]
    }
   ],
   "source": [
    "text_representation = tree.export_text(regr_dt, feature_names = col_names)\n",
    "print(text_representation)"
   ]
  }
 ],
 "metadata": {
  "kernelspec": {
   "display_name": "Python 3",
   "language": "python",
   "name": "python3"
  },
  "language_info": {
   "codemirror_mode": {
    "name": "ipython",
    "version": 3
   },
   "file_extension": ".py",
   "mimetype": "text/x-python",
   "name": "python",
   "nbconvert_exporter": "python",
   "pygments_lexer": "ipython3",
   "version": "3.7.6"
  }
 },
 "nbformat": 4,
 "nbformat_minor": 4
}
