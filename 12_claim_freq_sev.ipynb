{
 "cells": [
  {
   "cell_type": "markdown",
   "id": "dfb9399d-1bb5-49f2-a9ed-7a1b63419e15",
   "metadata": {},
   "source": [
    "# 12. Claim frequency and severity modeling with GBM"
   ]
  },
  {
   "cell_type": "markdown",
   "id": "6c563c8f-6e9e-4b8a-8571-28eef337dd9d",
   "metadata": {},
   "source": [
    "### 12.1. Claim frequency modeling\n",
    "\n",
    "* include the log of exposure as offset\n",
    "* specify the poisson distribution for the target\n",
    "* impose monotonically incresing contraint on ```bm```\n",
    "* perform stochastic gradient boosting with ```max_depth = 3``` and ```learning_rate = 0.1```"
   ]
  },
  {
   "cell_type": "code",
   "execution_count": 1,
   "id": "3046d43b-f552-4f26-9f8d-f08da6c902ef",
   "metadata": {},
   "outputs": [],
   "source": [
    "# import relevant libraries\n",
    "from sklearn.model_selection import GridSearchCV,RandomizedSearchCV,train_test_split\n",
    "from matplotlib.colors import ListedColormap\n",
    "from matplotlib import pyplot as plt\n",
    "from matplotlib import animation\n",
    "import xgboost as xgb\n",
    "import pandas as pd\n",
    "import numpy as np\n",
    "import random"
   ]
  },
  {
   "cell_type": "code",
   "execution_count": 2,
   "id": "51d8ee45-7c2a-41ec-8c30-c1e0f557af5e",
   "metadata": {},
   "outputs": [],
   "source": [
    "# load data using separator to correctly parse from .txt\n",
    "df = pd.read_csv(r'.\\data\\PC_data.txt', sep=r\"\\s+\")"
   ]
  },
  {
   "cell_type": "code",
   "execution_count": 3,
   "id": "4bd09a55-877c-42c8-96a8-0af804f5602f",
   "metadata": {},
   "outputs": [],
   "source": [
    "# column names to smaller case\n",
    "df.columns = map(str.lower, df.columns)"
   ]
  },
  {
   "cell_type": "code",
   "execution_count": 4,
   "id": "8c580083-5e93-4c55-88eb-8091d0be8a77",
   "metadata": {},
   "outputs": [
    {
     "data": {
      "text/html": [
       "<div>\n",
       "<style scoped>\n",
       "    .dataframe tbody tr th:only-of-type {\n",
       "        vertical-align: middle;\n",
       "    }\n",
       "\n",
       "    .dataframe tbody tr th {\n",
       "        vertical-align: top;\n",
       "    }\n",
       "\n",
       "    .dataframe thead th {\n",
       "        text-align: right;\n",
       "    }\n",
       "</style>\n",
       "<table border=\"1\" class=\"dataframe\">\n",
       "  <thead>\n",
       "    <tr style=\"text-align: right;\">\n",
       "      <th></th>\n",
       "      <th>id</th>\n",
       "      <th>nclaims</th>\n",
       "      <th>amount</th>\n",
       "      <th>avg</th>\n",
       "      <th>expo</th>\n",
       "      <th>coverage</th>\n",
       "      <th>fuel</th>\n",
       "      <th>use</th>\n",
       "      <th>fleet</th>\n",
       "      <th>sex</th>\n",
       "      <th>ageph</th>\n",
       "      <th>bm</th>\n",
       "      <th>agec</th>\n",
       "      <th>power</th>\n",
       "      <th>pc</th>\n",
       "      <th>town</th>\n",
       "      <th>long</th>\n",
       "      <th>lat</th>\n",
       "    </tr>\n",
       "  </thead>\n",
       "  <tbody>\n",
       "    <tr>\n",
       "      <th>0</th>\n",
       "      <td>1</td>\n",
       "      <td>1</td>\n",
       "      <td>1618.001036</td>\n",
       "      <td>1618.001036</td>\n",
       "      <td>1.000000</td>\n",
       "      <td>TPL</td>\n",
       "      <td>gasoline</td>\n",
       "      <td>private</td>\n",
       "      <td>N</td>\n",
       "      <td>male</td>\n",
       "      <td>50</td>\n",
       "      <td>5</td>\n",
       "      <td>12</td>\n",
       "      <td>77</td>\n",
       "      <td>1000</td>\n",
       "      <td>BRUSSEL</td>\n",
       "      <td>4.355223</td>\n",
       "      <td>50.845386</td>\n",
       "    </tr>\n",
       "    <tr>\n",
       "      <th>1</th>\n",
       "      <td>2</td>\n",
       "      <td>0</td>\n",
       "      <td>0.000000</td>\n",
       "      <td>NaN</td>\n",
       "      <td>1.000000</td>\n",
       "      <td>PO</td>\n",
       "      <td>gasoline</td>\n",
       "      <td>private</td>\n",
       "      <td>N</td>\n",
       "      <td>female</td>\n",
       "      <td>64</td>\n",
       "      <td>5</td>\n",
       "      <td>3</td>\n",
       "      <td>66</td>\n",
       "      <td>1000</td>\n",
       "      <td>BRUSSEL</td>\n",
       "      <td>4.355223</td>\n",
       "      <td>50.845386</td>\n",
       "    </tr>\n",
       "    <tr>\n",
       "      <th>2</th>\n",
       "      <td>3</td>\n",
       "      <td>0</td>\n",
       "      <td>0.000000</td>\n",
       "      <td>NaN</td>\n",
       "      <td>1.000000</td>\n",
       "      <td>TPL</td>\n",
       "      <td>diesel</td>\n",
       "      <td>private</td>\n",
       "      <td>N</td>\n",
       "      <td>male</td>\n",
       "      <td>60</td>\n",
       "      <td>0</td>\n",
       "      <td>10</td>\n",
       "      <td>70</td>\n",
       "      <td>1000</td>\n",
       "      <td>BRUSSEL</td>\n",
       "      <td>4.355223</td>\n",
       "      <td>50.845386</td>\n",
       "    </tr>\n",
       "    <tr>\n",
       "      <th>3</th>\n",
       "      <td>4</td>\n",
       "      <td>0</td>\n",
       "      <td>0.000000</td>\n",
       "      <td>NaN</td>\n",
       "      <td>1.000000</td>\n",
       "      <td>TPL</td>\n",
       "      <td>gasoline</td>\n",
       "      <td>private</td>\n",
       "      <td>N</td>\n",
       "      <td>male</td>\n",
       "      <td>77</td>\n",
       "      <td>0</td>\n",
       "      <td>15</td>\n",
       "      <td>57</td>\n",
       "      <td>1000</td>\n",
       "      <td>BRUSSEL</td>\n",
       "      <td>4.355223</td>\n",
       "      <td>50.845386</td>\n",
       "    </tr>\n",
       "    <tr>\n",
       "      <th>4</th>\n",
       "      <td>5</td>\n",
       "      <td>1</td>\n",
       "      <td>155.974606</td>\n",
       "      <td>155.974606</td>\n",
       "      <td>0.046575</td>\n",
       "      <td>TPL</td>\n",
       "      <td>gasoline</td>\n",
       "      <td>private</td>\n",
       "      <td>N</td>\n",
       "      <td>female</td>\n",
       "      <td>28</td>\n",
       "      <td>9</td>\n",
       "      <td>7</td>\n",
       "      <td>70</td>\n",
       "      <td>1000</td>\n",
       "      <td>BRUSSEL</td>\n",
       "      <td>4.355223</td>\n",
       "      <td>50.845386</td>\n",
       "    </tr>\n",
       "  </tbody>\n",
       "</table>\n",
       "</div>"
      ],
      "text/plain": [
       "   id  nclaims       amount          avg      expo coverage      fuel  \\\n",
       "0   1        1  1618.001036  1618.001036  1.000000      TPL  gasoline   \n",
       "1   2        0     0.000000          NaN  1.000000       PO  gasoline   \n",
       "2   3        0     0.000000          NaN  1.000000      TPL    diesel   \n",
       "3   4        0     0.000000          NaN  1.000000      TPL  gasoline   \n",
       "4   5        1   155.974606   155.974606  0.046575      TPL  gasoline   \n",
       "\n",
       "       use fleet     sex  ageph  bm  agec  power    pc     town      long  \\\n",
       "0  private     N    male     50   5    12     77  1000  BRUSSEL  4.355223   \n",
       "1  private     N  female     64   5     3     66  1000  BRUSSEL  4.355223   \n",
       "2  private     N    male     60   0    10     70  1000  BRUSSEL  4.355223   \n",
       "3  private     N    male     77   0    15     57  1000  BRUSSEL  4.355223   \n",
       "4  private     N  female     28   9     7     70  1000  BRUSSEL  4.355223   \n",
       "\n",
       "         lat  \n",
       "0  50.845386  \n",
       "1  50.845386  \n",
       "2  50.845386  \n",
       "3  50.845386  \n",
       "4  50.845386  "
      ]
     },
     "execution_count": 4,
     "metadata": {},
     "output_type": "execute_result"
    }
   ],
   "source": [
    "# rename exp to expo\n",
    "df.rename(columns={'exp':'expo'}, inplace = True); df.head()"
   ]
  },
  {
   "cell_type": "code",
   "execution_count": 5,
   "id": "bf0fe268-25ea-4fe7-9948-783c9369ee85",
   "metadata": {},
   "outputs": [],
   "source": [
    "# converting type(str) columns to categorical\n",
    "df['coverage'] = df['coverage'].astype('category').cat.codes\n",
    "df['fleet'] = df['fleet'].astype('category').cat.codes\n",
    "df['sex'] = df['sex'].astype('category').cat.codes\n",
    "df['town'] = df['town'].astype('category').cat.codes\n",
    "df['fuel'] = df['fuel'].astype('category').cat.codes\n",
    "df['use'] = df['use'].astype('category').cat.codes"
   ]
  },
  {
   "cell_type": "code",
   "execution_count": 6,
   "id": "2d01ddbd-8598-4b1f-8dcc-2727ea753146",
   "metadata": {},
   "outputs": [],
   "source": [
    "# cols to retain\n",
    "cols = ['bm','ageph','agec','power','coverage','fuel','sex','fleet','use']"
   ]
  },
  {
   "cell_type": "code",
   "execution_count": 7,
   "id": "04628488-312c-49bd-913f-7c52db2bb395",
   "metadata": {},
   "outputs": [],
   "source": [
    "# let's calculate calculate claim frequency and weights\n",
    "y = np.array(df.nclaims/df.expo)\n",
    "w = np.array(df.expo)"
   ]
  },
  {
   "cell_type": "code",
   "execution_count": 8,
   "id": "d23943ef-3488-41c4-9aa7-e28066d1485a",
   "metadata": {},
   "outputs": [],
   "source": [
    "# let's rearrange the dataset\n",
    "x = df[cols] # before, we had to convert this to array before fitting xgb. Now, monotone_constraint got restructured and, apparently, tracks the name of columns via dict -> we need to have the column names -> pd.DataFrame"
   ]
  },
  {
   "cell_type": "code",
   "execution_count": 18,
   "id": "7b733bba-3069-4f5b-bf9a-f0af4aaf6b25",
   "metadata": {},
   "outputs": [
    {
     "data": {
      "text/plain": [
       "XGBRegressor(base_score=0.5, booster='gbtree', colsample_bylevel=1,\n",
       "             colsample_bynode=1, colsample_bytree=1, enable_categorical=False,\n",
       "             gamma=0, gpu_id=-1, importance_type=None,\n",
       "             interaction_constraints='', learning_rate=0.1,\n",
       "             max_delta_step=0.699999988, max_depth=3, min_child_weight=1,\n",
       "             missing=nan, monotone_constraints={'bm': 1}, n_estimators=500,\n",
       "             n_jobs=16, num_parallel_tree=1, objective='count:poisson',\n",
       "             predictor='auto', random_state=0, reg_alpha=0, reg_lambda=1,\n",
       "             scale_pos_weight=None, subsample=1, tree_method='exact',\n",
       "             validate_parameters=1, verbosity=None)"
      ]
     },
     "execution_count": 18,
     "metadata": {},
     "output_type": "execute_result"
    }
   ],
   "source": [
    "xgb_model = xgb.XGBRegressor(n_estimators = 500, \n",
    "                              objective='count:poisson',\n",
    "                              monotone_constraints = {'bm':1},# the way this is implemented has changed, how? good question ahaha\n",
    "                              max_depth = 3,\n",
    "                              learning_rate = 0.1)\n",
    "\n",
    "xgb_model.fit(x,y,sample_weight = w)"
   ]
  },
  {
   "cell_type": "code",
   "execution_count": 19,
   "id": "acf6e046-92fe-4cda-8b15-4a7b5cff3efc",
   "metadata": {},
   "outputs": [
    {
     "data": {
      "text/plain": [
       "(163231, 18)"
      ]
     },
     "execution_count": 19,
     "metadata": {},
     "output_type": "execute_result"
    }
   ],
   "source": [
    "df.shape"
   ]
  },
  {
   "cell_type": "code",
   "execution_count": 20,
   "id": "ec3d1f16-44fe-45ff-9a00-e7be138d1374",
   "metadata": {},
   "outputs": [],
   "source": [
    "# prediction on y scale\n",
    "pred_on_target_scale = np.round(xgb_model.predict(x), 5)"
   ]
  },
  {
   "cell_type": "code",
   "execution_count": 21,
   "id": "3ded67fb-999b-4951-9523-8dcaac38d095",
   "metadata": {},
   "outputs": [],
   "source": [
    "# prediction on raw log scale\n",
    "raw_pred_on_log_scale = np.round(xgb_model.predict(x, output_margin = True), 5)"
   ]
  },
  {
   "cell_type": "code",
   "execution_count": 22,
   "id": "490a082c-4df3-4950-848d-74a2b40f99b4",
   "metadata": {},
   "outputs": [],
   "source": [
    "# prediction on y scala starting from row log scale\n",
    "pred_on_target_scale_from_raw = np.round(np.exp(xgb_model.predict(x, output_margin = True)),5)"
   ]
  },
  {
   "cell_type": "code",
   "execution_count": 23,
   "id": "35ec627d-318f-4216-b993-8aa5167eb47f",
   "metadata": {},
   "outputs": [
    {
     "data": {
      "text/plain": [
       "True"
      ]
     },
     "execution_count": 23,
     "metadata": {},
     "output_type": "execute_result"
    }
   ],
   "source": [
    "#checking equality (with tolerance for decimals)\n",
    "np.isclose(pred_on_target_scale, pred_on_target_scale_from_raw, atol=1e-05, equal_nan=False).all() # absolute(a - b) <= atol"
   ]
  },
  {
   "cell_type": "code",
   "execution_count": 26,
   "id": "15396df9-6110-4f08-ac5f-fe06c33df635",
   "metadata": {},
   "outputs": [],
   "source": [
    "test = pd.DataFrame({'obs':y,'pred':pred_on_target_scale})"
   ]
  },
  {
   "cell_type": "code",
   "execution_count": 27,
   "id": "afc63b77-e556-4878-9a06-aa8e25dc0ae6",
   "metadata": {},
   "outputs": [
    {
     "data": {
      "text/html": [
       "<div>\n",
       "<style scoped>\n",
       "    .dataframe tbody tr th:only-of-type {\n",
       "        vertical-align: middle;\n",
       "    }\n",
       "\n",
       "    .dataframe tbody tr th {\n",
       "        vertical-align: top;\n",
       "    }\n",
       "\n",
       "    .dataframe thead th {\n",
       "        text-align: right;\n",
       "    }\n",
       "</style>\n",
       "<table border=\"1\" class=\"dataframe\">\n",
       "  <thead>\n",
       "    <tr style=\"text-align: right;\">\n",
       "      <th></th>\n",
       "      <th>obs</th>\n",
       "      <th>pred</th>\n",
       "    </tr>\n",
       "  </thead>\n",
       "  <tbody>\n",
       "    <tr>\n",
       "      <th>0</th>\n",
       "      <td>1.000000</td>\n",
       "      <td>0.17022</td>\n",
       "    </tr>\n",
       "    <tr>\n",
       "      <th>1</th>\n",
       "      <td>0.000000</td>\n",
       "      <td>0.12354</td>\n",
       "    </tr>\n",
       "    <tr>\n",
       "      <th>2</th>\n",
       "      <td>0.000000</td>\n",
       "      <td>0.10121</td>\n",
       "    </tr>\n",
       "    <tr>\n",
       "      <th>3</th>\n",
       "      <td>0.000000</td>\n",
       "      <td>0.07280</td>\n",
       "    </tr>\n",
       "    <tr>\n",
       "      <th>4</th>\n",
       "      <td>21.470588</td>\n",
       "      <td>0.26871</td>\n",
       "    </tr>\n",
       "    <tr>\n",
       "      <th>...</th>\n",
       "      <td>...</td>\n",
       "      <td>...</td>\n",
       "    </tr>\n",
       "    <tr>\n",
       "      <th>163226</th>\n",
       "      <td>0.000000</td>\n",
       "      <td>0.16713</td>\n",
       "    </tr>\n",
       "    <tr>\n",
       "      <th>163227</th>\n",
       "      <td>0.000000</td>\n",
       "      <td>0.12711</td>\n",
       "    </tr>\n",
       "    <tr>\n",
       "      <th>163228</th>\n",
       "      <td>0.000000</td>\n",
       "      <td>0.11546</td>\n",
       "    </tr>\n",
       "    <tr>\n",
       "      <th>163229</th>\n",
       "      <td>0.000000</td>\n",
       "      <td>0.11014</td>\n",
       "    </tr>\n",
       "    <tr>\n",
       "      <th>163230</th>\n",
       "      <td>2.000000</td>\n",
       "      <td>0.17187</td>\n",
       "    </tr>\n",
       "  </tbody>\n",
       "</table>\n",
       "<p>163231 rows × 2 columns</p>\n",
       "</div>"
      ],
      "text/plain": [
       "              obs     pred\n",
       "0        1.000000  0.17022\n",
       "1        0.000000  0.12354\n",
       "2        0.000000  0.10121\n",
       "3        0.000000  0.07280\n",
       "4       21.470588  0.26871\n",
       "...           ...      ...\n",
       "163226   0.000000  0.16713\n",
       "163227   0.000000  0.12711\n",
       "163228   0.000000  0.11546\n",
       "163229   0.000000  0.11014\n",
       "163230   2.000000  0.17187\n",
       "\n",
       "[163231 rows x 2 columns]"
      ]
     },
     "execution_count": 27,
     "metadata": {},
     "output_type": "execute_result"
    }
   ],
   "source": [
    "test"
   ]
  },
  {
   "cell_type": "code",
   "execution_count": 28,
   "id": "ca45bb09-3c23-4920-ae48-d33c09f14c3e",
   "metadata": {},
   "outputs": [
    {
     "data": {
      "text/plain": [
       "<sklearn.inspection._plot.partial_dependence.PartialDependenceDisplay at 0x1c5dcf0cb08>"
      ]
     },
     "execution_count": 28,
     "metadata": {},
     "output_type": "execute_result"
    },
    {
     "data": {
      "image/png": "[encoded data removed]",
      "text/plain": [
       "<Figure size 432x288 with 3 Axes>"
      ]
     },
     "metadata": {
      "needs_background": "light"
     },
     "output_type": "display_data"
    }
   ],
   "source": [
    "from sklearn.inspection import PartialDependenceDisplay\n",
    "PartialDependenceDisplay.from_estimator(xgb_model, features = ['bm','ageph'], X=x, feature_names = ['bm','ageph'])"
   ]
  },
  {
   "cell_type": "code",
   "execution_count": 29,
   "id": "33c534ba-a33f-47c9-a934-c41d36762ed8",
   "metadata": {},
   "outputs": [
    {
     "data": {
      "text/plain": [
       "{'bm': 37.15327835083008,\n",
       " 'ageph': 3.1714229583740234,\n",
       " 'agec': 2.0373644828796387,\n",
       " 'power': 1.9949947595596313,\n",
       " 'coverage': 2.7172040939331055,\n",
       " 'fuel': 5.319155693054199,\n",
       " 'sex': 2.7582147121429443,\n",
       " 'fleet': 1.5841093063354492,\n",
       " 'use': 1.1127355098724365}"
      ]
     },
     "execution_count": 29,
     "metadata": {},
     "output_type": "execute_result"
    }
   ],
   "source": [
    "xgb_model.get_booster().feature_names = cols\n",
    "xgb_model.get_booster().get_score(importance_type=\"gain\")"
   ]
  },
  {
   "cell_type": "code",
   "execution_count": 30,
   "id": "c314cd7c-71e1-4fc0-99bc-0ef06dc743f4",
   "metadata": {},
   "outputs": [
    {
     "data": {
      "text/plain": [
       "<AxesSubplot:>"
      ]
     },
     "execution_count": 30,
     "metadata": {},
     "output_type": "execute_result"
    },
    {
     "data": {
      "image/png": "[encoded data removed]",
      "text/plain": [
       "<Figure size 432x288 with 1 Axes>"
      ]
     },
     "metadata": {
      "needs_background": "light"
     },
     "output_type": "display_data"
    }
   ],
   "source": [
    "# feature importance\n",
    "feature_importance = xgb_model.get_booster().get_score(importance_type='gain')\n",
    "keys = list(feature_importance.keys())\n",
    "values = list(feature_importance.values())\n",
    "\n",
    "data = pd.DataFrame(data=values, index=keys, columns=[\"score\"]).sort_values(by = \"score\", ascending=True)\n",
    "data.plot(kind='barh')"
   ]
  },
  {
   "cell_type": "code",
   "execution_count": 31,
   "id": "23710c5a-ba0f-4172-b7b3-fc669e7c114c",
   "metadata": {},
   "outputs": [
    {
     "data": {
      "text/html": [
       "<div>\n",
       "<style scoped>\n",
       "    .dataframe tbody tr th:only-of-type {\n",
       "        vertical-align: middle;\n",
       "    }\n",
       "\n",
       "    .dataframe tbody tr th {\n",
       "        vertical-align: top;\n",
       "    }\n",
       "\n",
       "    .dataframe thead th {\n",
       "        text-align: right;\n",
       "    }\n",
       "</style>\n",
       "<table border=\"1\" class=\"dataframe\">\n",
       "  <thead>\n",
       "    <tr style=\"text-align: right;\">\n",
       "      <th></th>\n",
       "      <th>Tree</th>\n",
       "      <th>Node</th>\n",
       "      <th>ID</th>\n",
       "      <th>Feature</th>\n",
       "      <th>Split</th>\n",
       "      <th>Yes</th>\n",
       "      <th>No</th>\n",
       "      <th>Missing</th>\n",
       "      <th>Gain</th>\n",
       "      <th>Cover</th>\n",
       "      <th>Category</th>\n",
       "    </tr>\n",
       "  </thead>\n",
       "  <tbody>\n",
       "    <tr>\n",
       "      <th>0</th>\n",
       "      <td>0</td>\n",
       "      <td>0</td>\n",
       "      <td>0-0</td>\n",
       "      <td>bm</td>\n",
       "      <td>7.0</td>\n",
       "      <td>0-1</td>\n",
       "      <td>0-2</td>\n",
       "      <td>0-1</td>\n",
       "      <td>255.927734</td>\n",
       "      <td>146231.156000</td>\n",
       "      <td>NaN</td>\n",
       "    </tr>\n",
       "    <tr>\n",
       "      <th>1</th>\n",
       "      <td>0</td>\n",
       "      <td>1</td>\n",
       "      <td>0-1</td>\n",
       "      <td>bm</td>\n",
       "      <td>2.0</td>\n",
       "      <td>0-3</td>\n",
       "      <td>0-4</td>\n",
       "      <td>0-3</td>\n",
       "      <td>40.210938</td>\n",
       "      <td>116025.688000</td>\n",
       "      <td>NaN</td>\n",
       "    </tr>\n",
       "    <tr>\n",
       "      <th>2</th>\n",
       "      <td>0</td>\n",
       "      <td>2</td>\n",
       "      <td>0-2</td>\n",
       "      <td>bm</td>\n",
       "      <td>11.0</td>\n",
       "      <td>0-5</td>\n",
       "      <td>0-6</td>\n",
       "      <td>0-5</td>\n",
       "      <td>32.356445</td>\n",
       "      <td>30205.470700</td>\n",
       "      <td>NaN</td>\n",
       "    </tr>\n",
       "    <tr>\n",
       "      <th>3</th>\n",
       "      <td>0</td>\n",
       "      <td>3</td>\n",
       "      <td>0-3</td>\n",
       "      <td>ageph</td>\n",
       "      <td>56.0</td>\n",
       "      <td>0-7</td>\n",
       "      <td>0-8</td>\n",
       "      <td>0-7</td>\n",
       "      <td>13.670898</td>\n",
       "      <td>81035.437500</td>\n",
       "      <td>NaN</td>\n",
       "    </tr>\n",
       "    <tr>\n",
       "      <th>4</th>\n",
       "      <td>0</td>\n",
       "      <td>4</td>\n",
       "      <td>0-4</td>\n",
       "      <td>fuel</td>\n",
       "      <td>1.0</td>\n",
       "      <td>0-9</td>\n",
       "      <td>0-10</td>\n",
       "      <td>0-9</td>\n",
       "      <td>6.787109</td>\n",
       "      <td>34990.250000</td>\n",
       "      <td>NaN</td>\n",
       "    </tr>\n",
       "    <tr>\n",
       "      <th>...</th>\n",
       "      <td>...</td>\n",
       "      <td>...</td>\n",
       "      <td>...</td>\n",
       "      <td>...</td>\n",
       "      <td>...</td>\n",
       "      <td>...</td>\n",
       "      <td>...</td>\n",
       "      <td>...</td>\n",
       "      <td>...</td>\n",
       "      <td>...</td>\n",
       "      <td>...</td>\n",
       "    </tr>\n",
       "    <tr>\n",
       "      <th>6831</th>\n",
       "      <td>499</td>\n",
       "      <td>10</td>\n",
       "      <td>499-10</td>\n",
       "      <td>Leaf</td>\n",
       "      <td>NaN</td>\n",
       "      <td>NaN</td>\n",
       "      <td>NaN</td>\n",
       "      <td>NaN</td>\n",
       "      <td>0.055307</td>\n",
       "      <td>1.378483</td>\n",
       "      <td>NaN</td>\n",
       "    </tr>\n",
       "    <tr>\n",
       "      <th>6832</th>\n",
       "      <td>499</td>\n",
       "      <td>11</td>\n",
       "      <td>499-11</td>\n",
       "      <td>Leaf</td>\n",
       "      <td>NaN</td>\n",
       "      <td>NaN</td>\n",
       "      <td>NaN</td>\n",
       "      <td>NaN</td>\n",
       "      <td>0.022926</td>\n",
       "      <td>21.727396</td>\n",
       "      <td>NaN</td>\n",
       "    </tr>\n",
       "    <tr>\n",
       "      <th>6833</th>\n",
       "      <td>499</td>\n",
       "      <td>12</td>\n",
       "      <td>499-12</td>\n",
       "      <td>Leaf</td>\n",
       "      <td>NaN</td>\n",
       "      <td>NaN</td>\n",
       "      <td>NaN</td>\n",
       "      <td>NaN</td>\n",
       "      <td>-0.000382</td>\n",
       "      <td>8127.612300</td>\n",
       "      <td>NaN</td>\n",
       "    </tr>\n",
       "    <tr>\n",
       "      <th>6834</th>\n",
       "      <td>499</td>\n",
       "      <td>13</td>\n",
       "      <td>499-13</td>\n",
       "      <td>Leaf</td>\n",
       "      <td>NaN</td>\n",
       "      <td>NaN</td>\n",
       "      <td>NaN</td>\n",
       "      <td>NaN</td>\n",
       "      <td>0.000595</td>\n",
       "      <td>10542.572300</td>\n",
       "      <td>NaN</td>\n",
       "    </tr>\n",
       "    <tr>\n",
       "      <th>6835</th>\n",
       "      <td>499</td>\n",
       "      <td>14</td>\n",
       "      <td>499-14</td>\n",
       "      <td>Leaf</td>\n",
       "      <td>NaN</td>\n",
       "      <td>NaN</td>\n",
       "      <td>NaN</td>\n",
       "      <td>NaN</td>\n",
       "      <td>-0.000179</td>\n",
       "      <td>21982.957000</td>\n",
       "      <td>NaN</td>\n",
       "    </tr>\n",
       "  </tbody>\n",
       "</table>\n",
       "<p>6836 rows × 11 columns</p>\n",
       "</div>"
      ],
      "text/plain": [
       "      Tree  Node      ID Feature  Split  Yes    No Missing        Gain  \\\n",
       "0        0     0     0-0      bm    7.0  0-1   0-2     0-1  255.927734   \n",
       "1        0     1     0-1      bm    2.0  0-3   0-4     0-3   40.210938   \n",
       "2        0     2     0-2      bm   11.0  0-5   0-6     0-5   32.356445   \n",
       "3        0     3     0-3   ageph   56.0  0-7   0-8     0-7   13.670898   \n",
       "4        0     4     0-4    fuel    1.0  0-9  0-10     0-9    6.787109   \n",
       "...    ...   ...     ...     ...    ...  ...   ...     ...         ...   \n",
       "6831   499    10  499-10    Leaf    NaN  NaN   NaN     NaN    0.055307   \n",
       "6832   499    11  499-11    Leaf    NaN  NaN   NaN     NaN    0.022926   \n",
       "6833   499    12  499-12    Leaf    NaN  NaN   NaN     NaN   -0.000382   \n",
       "6834   499    13  499-13    Leaf    NaN  NaN   NaN     NaN    0.000595   \n",
       "6835   499    14  499-14    Leaf    NaN  NaN   NaN     NaN   -0.000179   \n",
       "\n",
       "              Cover  Category  \n",
       "0     146231.156000       NaN  \n",
       "1     116025.688000       NaN  \n",
       "2      30205.470700       NaN  \n",
       "3      81035.437500       NaN  \n",
       "4      34990.250000       NaN  \n",
       "...             ...       ...  \n",
       "6831       1.378483       NaN  \n",
       "6832      21.727396       NaN  \n",
       "6833    8127.612300       NaN  \n",
       "6834   10542.572300       NaN  \n",
       "6835   21982.957000       NaN  \n",
       "\n",
       "[6836 rows x 11 columns]"
      ]
     },
     "execution_count": 31,
     "metadata": {},
     "output_type": "execute_result"
    }
   ],
   "source": [
    "# aggregate trees in a pd.DataFrame\n",
    "xgb_model.get_booster().trees_to_dataframe()"
   ]
  },
  {
   "cell_type": "code",
   "execution_count": 32,
   "id": "f490b87c-1fc4-4749-a060-b1a923edb2ae",
   "metadata": {},
   "outputs": [
    {
     "name": "stdout",
     "output_type": "stream",
     "text": [
      "booster[0]:\n",
      "0:[bm<7] yes=1,no=2,missing=1,gain=255.927734,cover=146231.156\n",
      "\t1:[bm<2] yes=3,no=4,missing=3,gain=40.2109375,cover=116025.688\n",
      "\t\t3:[ageph<56] yes=7,no=8,missing=7,gain=13.6708984,cover=81035.4375\n",
      "\t\t\t7:leaf=-0.0381389894,cover=49579.9375\n",
      "\t\t\t8:leaf=-0.0408193506,cover=31455.498\n",
      "\t\t4:[fuel<1] yes=9,no=10,missing=9,gain=6.78710938,cover=34990.25\n",
      "\t\t\t9:leaf=-0.0331041776,cover=11479.3447\n",
      "\t\t\t10:leaf=-0.0360973291,cover=23510.9043\n",
      "\t2:[bm<11] yes=5,no=6,missing=5,gain=32.3564453,cover=30205.4707\n",
      "\t\t5:[ageph<27] yes=11,no=12,missing=11,gain=9.27807617,cover=19862.8926\n",
      "\t\t\t11:leaf=-0.0265295003,cover=4825.41748\n",
      "\t\t\t12:leaf=-0.0312158596,cover=15037.4746\n",
      "\t\t6:[agec<7] yes=13,no=14,missing=13,gain=6.33276367,cover=10342.5791\n",
      "\t\t\t13:leaf=-0.0263584312,cover=3765.06372\n",
      "\t\t\t14:leaf=-0.0211947113,cover=6577.51514\n",
      "\n"
     ]
    }
   ],
   "source": [
    "# dump model (direct access to each tree) and load it\n",
    "tree_selected = 0\n",
    "xgb_model.get_booster()[tree_selected].dump_model(\"./data/out.txt\", with_stats=True)\n",
    "\n",
    "# read the contents of the file\n",
    "with open('./data/out.txt', 'r') as f:\n",
    "    txt_model = f.read()\n",
    "print(txt_model)"
   ]
  },
  {
   "cell_type": "markdown",
   "id": "b12aa2df-51eb-4377-b7cb-26cd12141b72",
   "metadata": {},
   "source": [
    "We can see that the predictions for #ofclaims/exposure are negative. This happens because the predictions for target are **on log scale**. Let's show it fitting a smaller xgb model:"
   ]
  },
  {
   "cell_type": "code",
   "execution_count": 33,
   "id": "8a221640-b6a0-4fb1-acf8-2c73bcfed25d",
   "metadata": {},
   "outputs": [
    {
     "data": {
      "text/plain": [
       "XGBRegressor(base_score=0.5, booster='gbtree', colsample_bylevel=1,\n",
       "             colsample_bynode=1, colsample_bytree=1, enable_categorical=False,\n",
       "             gamma=0, gpu_id=-1, importance_type=None,\n",
       "             interaction_constraints='', learning_rate=0.1,\n",
       "             max_delta_step=0.699999988, max_depth=3, min_child_weight=1,\n",
       "             missing=nan, monotone_constraints='()', n_estimators=2, n_jobs=16,\n",
       "             num_parallel_tree=1, objective='count:poisson', predictor='auto',\n",
       "             random_state=0, reg_alpha=0, reg_lambda=1, scale_pos_weight=None,\n",
       "             subsample=1, tree_method='exact', validate_parameters=1,\n",
       "             verbosity=None)"
      ]
     },
     "execution_count": 33,
     "metadata": {},
     "output_type": "execute_result"
    }
   ],
   "source": [
    "xgb_model_2 = xgb.XGBRegressor(n_estimators = 2, \n",
    "                              objective='count:poisson',\n",
    "                              # monotone_constraints = (1,0,0,0,0,0,0,0,0), # the way this is implemented has changed, how? good question ahaha\n",
    "                              max_depth = 3,\n",
    "                              learning_rate = 0.1)\n",
    "\n",
    "xgb_model_2.fit(x,y,sample_weight = w)"
   ]
  },
  {
   "cell_type": "code",
   "execution_count": 34,
   "id": "eeff822e-b49b-4af7-a1c0-fc31705aa9da",
   "metadata": {},
   "outputs": [
    {
     "name": "stdout",
     "output_type": "stream",
     "text": [
      "booster[0]:\n",
      "0:[bm<7] yes=1,no=2,missing=1,gain=255.927734,cover=146231.156\n",
      "\t1:[bm<2] yes=3,no=4,missing=3,gain=40.2109375,cover=116025.688\n",
      "\t\t3:[ageph<56] yes=7,no=8,missing=7,gain=13.6708984,cover=81035.4375\n",
      "\t\t\t7:leaf=-0.0381389894,cover=49579.9375\n",
      "\t\t\t8:leaf=-0.0408193506,cover=31455.498\n",
      "\t\t4:[ageph<58] yes=9,no=10,missing=9,gain=6.96289063,cover=34990.25\n",
      "\t\t\t9:leaf=-0.0343534909,cover=27195.8984\n",
      "\t\t\t10:leaf=-0.0377732851,cover=7794.35107\n",
      "\t2:[bm<11] yes=5,no=6,missing=5,gain=32.3564453,cover=30205.4707\n",
      "\t\t5:[ageph<27] yes=11,no=12,missing=11,gain=9.35437012,cover=19862.8926\n",
      "\t\t\t11:leaf=-0.0261318367,cover=4825.41748\n",
      "\t\t\t12:leaf=-0.0312158596,cover=15037.4746\n",
      "\t\t6:[agec<7] yes=13,no=14,missing=13,gain=6.33276367,cover=10342.5791\n",
      "\t\t\t13:leaf=-0.0263584312,cover=3765.06372\n",
      "\t\t\t14:leaf=-0.0211947113,cover=6577.51514\n",
      "booster[1]:\n",
      "0:[bm<7] yes=1,no=2,missing=1,gain=256.384766,cover=141087.844\n",
      "\t1:[bm<3] yes=3,no=4,missing=3,gain=40.7910156,cover=111704.883\n",
      "\t\t3:[ageph<56] yes=7,no=8,missing=7,gain=16.2763672,cover=86347.5469\n",
      "\t\t\t7:leaf=-0.0374729559,cover=54066.9961\n",
      "\t\t\t8:leaf=-0.0403234884,cover=32280.5527\n",
      "\t\t4:[ageph<56] yes=9,no=10,missing=9,gain=5.88916016,cover=25357.334\n",
      "\t\t\t9:leaf=-0.0330735669,cover=18952.8906\n",
      "\t\t\t10:leaf=-0.0366149954,cover=6404.44336\n",
      "\t2:[bm<11] yes=5,no=6,missing=5,gain=31.7434082,cover=29382.9648\n",
      "\t\t5:[ageph<27] yes=11,no=12,missing=11,gain=9.24084473,cover=19276.2715\n",
      "\t\t\t11:leaf=-0.0255090725,cover=4700.9541\n",
      "\t\t\t12:leaf=-0.0306311157,cover=14575.3184\n",
      "\t\t6:[power<40] yes=13,no=14,missing=13,gain=6.17269897,cover=10106.6924\n",
      "\t\t\t13:leaf=-0.0276952516,cover=1849.80078\n",
      "\t\t\t14:leaf=-0.0212796591,cover=8256.8916\n",
      "\n"
     ]
    }
   ],
   "source": [
    "# dump model (direct access to each tree) and load it\n",
    "xgb_model_2.get_booster().dump_model(\"./data/out_2.txt\", with_stats=True)\n",
    "\n",
    "# read the contents of the file\n",
    "with open('./data/out_2.txt', 'r') as f:\n",
    "    txt_model = f.read()\n",
    "print(txt_model)"
   ]
  },
  {
   "cell_type": "markdown",
   "id": "1ebd854f-bcec-436f-a347-e10369ddd510",
   "metadata": {},
   "source": [
    "What records go into the predict?"
   ]
  },
  {
   "cell_type": "code",
   "execution_count": 35,
   "id": "fc8d002a-4487-4d8a-8a89-97f5dd6f141b",
   "metadata": {},
   "outputs": [
    {
     "data": {
      "text/html": [
       "<div>\n",
       "<style scoped>\n",
       "    .dataframe tbody tr th:only-of-type {\n",
       "        vertical-align: middle;\n",
       "    }\n",
       "\n",
       "    .dataframe tbody tr th {\n",
       "        vertical-align: top;\n",
       "    }\n",
       "\n",
       "    .dataframe thead th {\n",
       "        text-align: right;\n",
       "    }\n",
       "</style>\n",
       "<table border=\"1\" class=\"dataframe\">\n",
       "  <thead>\n",
       "    <tr style=\"text-align: right;\">\n",
       "      <th></th>\n",
       "      <th>bm</th>\n",
       "      <th>ageph</th>\n",
       "      <th>agec</th>\n",
       "      <th>power</th>\n",
       "      <th>coverage</th>\n",
       "      <th>fuel</th>\n",
       "      <th>sex</th>\n",
       "      <th>fleet</th>\n",
       "      <th>use</th>\n",
       "    </tr>\n",
       "  </thead>\n",
       "  <tbody>\n",
       "    <tr>\n",
       "      <th>0</th>\n",
       "      <td>5</td>\n",
       "      <td>50</td>\n",
       "      <td>12</td>\n",
       "      <td>77</td>\n",
       "      <td>2</td>\n",
       "      <td>1</td>\n",
       "      <td>1</td>\n",
       "      <td>0</td>\n",
       "      <td>0</td>\n",
       "    </tr>\n",
       "    <tr>\n",
       "      <th>1</th>\n",
       "      <td>5</td>\n",
       "      <td>64</td>\n",
       "      <td>3</td>\n",
       "      <td>66</td>\n",
       "      <td>1</td>\n",
       "      <td>1</td>\n",
       "      <td>0</td>\n",
       "      <td>0</td>\n",
       "      <td>0</td>\n",
       "    </tr>\n",
       "  </tbody>\n",
       "</table>\n",
       "</div>"
      ],
      "text/plain": [
       "   bm  ageph  agec  power  coverage  fuel  sex  fleet  use\n",
       "0   5     50    12     77         2     1    1      0    0\n",
       "1   5     64     3     66         1     1    0      0    0"
      ]
     },
     "execution_count": 35,
     "metadata": {},
     "output_type": "execute_result"
    }
   ],
   "source": [
    "x[:2]"
   ]
  },
  {
   "cell_type": "markdown",
   "id": "8aefa179-1ad3-428a-a238-a59de5874e42",
   "metadata": {},
   "source": [
    "We can visually assess which is \"the final leaf\" of the prediction"
   ]
  },
  {
   "cell_type": "code",
   "execution_count": 36,
   "id": "75c69562-e516-48b4-9360-a3acd160c9ab",
   "metadata": {},
   "outputs": [
    {
     "data": {
      "text/html": [
       "<div>\n",
       "<style scoped>\n",
       "    .dataframe tbody tr th:only-of-type {\n",
       "        vertical-align: middle;\n",
       "    }\n",
       "\n",
       "    .dataframe tbody tr th {\n",
       "        vertical-align: top;\n",
       "    }\n",
       "\n",
       "    .dataframe thead th {\n",
       "        text-align: right;\n",
       "    }\n",
       "</style>\n",
       "<table border=\"1\" class=\"dataframe\">\n",
       "  <thead>\n",
       "    <tr style=\"text-align: right;\">\n",
       "      <th></th>\n",
       "      <th>0</th>\n",
       "    </tr>\n",
       "  </thead>\n",
       "  <tbody>\n",
       "    <tr>\n",
       "      <th>0</th>\n",
       "      <td>-0.034353</td>\n",
       "    </tr>\n",
       "    <tr>\n",
       "      <th>1</th>\n",
       "      <td>-0.037773</td>\n",
       "    </tr>\n",
       "  </tbody>\n",
       "</table>\n",
       "</div>"
      ],
      "text/plain": [
       "          0\n",
       "0 -0.034353\n",
       "1 -0.037773"
      ]
     },
     "execution_count": 36,
     "metadata": {},
     "output_type": "execute_result"
    }
   ],
   "source": [
    "pred_2 = pd.DataFrame(xgb_model_2.predict(x[:2], iteration_range=(0, 1), output_margin=True) - np.log(0.5)); pred_2"
   ]
  }
 ],
 "metadata": {
  "kernelspec": {
   "display_name": "Python 3 (ipykernel)",
   "language": "python",
   "name": "python3"
  },
  "language_info": {
   "codemirror_mode": {
    "name": "ipython",
    "version": 3
   },
   "file_extension": ".py",
   "mimetype": "text/x-python",
   "name": "python",
   "nbconvert_exporter": "python",
   "pygments_lexer": "ipython3",
   "version": "3.7.11"
  }
 },
 "nbformat": 4,
 "nbformat_minor": 5
}
