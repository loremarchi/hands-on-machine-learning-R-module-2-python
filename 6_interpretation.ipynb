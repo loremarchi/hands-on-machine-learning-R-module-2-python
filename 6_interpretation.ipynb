{
 "cells": [
  {
   "cell_type": "markdown",
   "metadata": {},
   "source": [
    "# 7. Interpreting a Tree Model"
   ]
  },
  {
   "cell_type": "code",
   "execution_count": 1,
   "metadata": {},
   "outputs": [],
   "source": [
    "import matplotlib.pyplot as plt\n",
    "import seaborn as sns\n",
    "import pandas as pd\n",
    "import numpy as np\n",
    "import os"
   ]
  },
  {
   "cell_type": "code",
   "execution_count": 2,
   "metadata": {},
   "outputs": [
    {
     "data": {
      "text/html": [
       "<div>\n",
       "<style scoped>\n",
       "    .dataframe tbody tr th:only-of-type {\n",
       "        vertical-align: middle;\n",
       "    }\n",
       "\n",
       "    .dataframe tbody tr th {\n",
       "        vertical-align: top;\n",
       "    }\n",
       "\n",
       "    .dataframe thead th {\n",
       "        text-align: right;\n",
       "    }\n",
       "</style>\n",
       "<table border=\"1\" class=\"dataframe\">\n",
       "  <thead>\n",
       "    <tr style=\"text-align: right;\">\n",
       "      <th></th>\n",
       "      <th>nclaims</th>\n",
       "      <th>amount</th>\n",
       "      <th>avg</th>\n",
       "      <th>exp</th>\n",
       "      <th>coverage</th>\n",
       "      <th>fuel</th>\n",
       "      <th>use</th>\n",
       "      <th>fleet</th>\n",
       "      <th>sex</th>\n",
       "      <th>ageph</th>\n",
       "      <th>bm</th>\n",
       "      <th>agec</th>\n",
       "      <th>power</th>\n",
       "      <th>pc</th>\n",
       "      <th>town</th>\n",
       "      <th>long</th>\n",
       "      <th>lat</th>\n",
       "    </tr>\n",
       "  </thead>\n",
       "  <tbody>\n",
       "    <tr>\n",
       "      <th>0</th>\n",
       "      <td>1</td>\n",
       "      <td>1618.001036</td>\n",
       "      <td>1618.001036</td>\n",
       "      <td>1.000000</td>\n",
       "      <td>TPL</td>\n",
       "      <td>gasoline</td>\n",
       "      <td>private</td>\n",
       "      <td>N</td>\n",
       "      <td>male</td>\n",
       "      <td>50</td>\n",
       "      <td>5</td>\n",
       "      <td>12</td>\n",
       "      <td>77</td>\n",
       "      <td>1000</td>\n",
       "      <td>BRUSSEL</td>\n",
       "      <td>4.355223</td>\n",
       "      <td>50.845386</td>\n",
       "    </tr>\n",
       "    <tr>\n",
       "      <th>1</th>\n",
       "      <td>0</td>\n",
       "      <td>0.000000</td>\n",
       "      <td>NaN</td>\n",
       "      <td>1.000000</td>\n",
       "      <td>PO</td>\n",
       "      <td>gasoline</td>\n",
       "      <td>private</td>\n",
       "      <td>N</td>\n",
       "      <td>female</td>\n",
       "      <td>64</td>\n",
       "      <td>5</td>\n",
       "      <td>3</td>\n",
       "      <td>66</td>\n",
       "      <td>1000</td>\n",
       "      <td>BRUSSEL</td>\n",
       "      <td>4.355223</td>\n",
       "      <td>50.845386</td>\n",
       "    </tr>\n",
       "    <tr>\n",
       "      <th>2</th>\n",
       "      <td>0</td>\n",
       "      <td>0.000000</td>\n",
       "      <td>NaN</td>\n",
       "      <td>1.000000</td>\n",
       "      <td>TPL</td>\n",
       "      <td>diesel</td>\n",
       "      <td>private</td>\n",
       "      <td>N</td>\n",
       "      <td>male</td>\n",
       "      <td>60</td>\n",
       "      <td>0</td>\n",
       "      <td>10</td>\n",
       "      <td>70</td>\n",
       "      <td>1000</td>\n",
       "      <td>BRUSSEL</td>\n",
       "      <td>4.355223</td>\n",
       "      <td>50.845386</td>\n",
       "    </tr>\n",
       "    <tr>\n",
       "      <th>3</th>\n",
       "      <td>0</td>\n",
       "      <td>0.000000</td>\n",
       "      <td>NaN</td>\n",
       "      <td>1.000000</td>\n",
       "      <td>TPL</td>\n",
       "      <td>gasoline</td>\n",
       "      <td>private</td>\n",
       "      <td>N</td>\n",
       "      <td>male</td>\n",
       "      <td>77</td>\n",
       "      <td>0</td>\n",
       "      <td>15</td>\n",
       "      <td>57</td>\n",
       "      <td>1000</td>\n",
       "      <td>BRUSSEL</td>\n",
       "      <td>4.355223</td>\n",
       "      <td>50.845386</td>\n",
       "    </tr>\n",
       "    <tr>\n",
       "      <th>4</th>\n",
       "      <td>1</td>\n",
       "      <td>155.974606</td>\n",
       "      <td>155.974606</td>\n",
       "      <td>0.046575</td>\n",
       "      <td>TPL</td>\n",
       "      <td>gasoline</td>\n",
       "      <td>private</td>\n",
       "      <td>N</td>\n",
       "      <td>female</td>\n",
       "      <td>28</td>\n",
       "      <td>9</td>\n",
       "      <td>7</td>\n",
       "      <td>70</td>\n",
       "      <td>1000</td>\n",
       "      <td>BRUSSEL</td>\n",
       "      <td>4.355223</td>\n",
       "      <td>50.845386</td>\n",
       "    </tr>\n",
       "  </tbody>\n",
       "</table>\n",
       "</div>"
      ],
      "text/plain": [
       "   nclaims       amount          avg       exp coverage      fuel      use  \\\n",
       "0        1  1618.001036  1618.001036  1.000000      TPL  gasoline  private   \n",
       "1        0     0.000000          NaN  1.000000       PO  gasoline  private   \n",
       "2        0     0.000000          NaN  1.000000      TPL    diesel  private   \n",
       "3        0     0.000000          NaN  1.000000      TPL  gasoline  private   \n",
       "4        1   155.974606   155.974606  0.046575      TPL  gasoline  private   \n",
       "\n",
       "  fleet     sex  ageph  bm  agec  power    pc     town      long        lat  \n",
       "0     N    male     50   5    12     77  1000  BRUSSEL  4.355223  50.845386  \n",
       "1     N  female     64   5     3     66  1000  BRUSSEL  4.355223  50.845386  \n",
       "2     N    male     60   0    10     70  1000  BRUSSEL  4.355223  50.845386  \n",
       "3     N    male     77   0    15     57  1000  BRUSSEL  4.355223  50.845386  \n",
       "4     N  female     28   9     7     70  1000  BRUSSEL  4.355223  50.845386  "
      ]
     },
     "execution_count": 2,
     "metadata": {},
     "output_type": "execute_result"
    }
   ],
   "source": [
    "df = pd.read_csv(r'.\\data\\PC_data.txt', sep = '\\s+')\n",
    "df.columns = map(str.lower, df.columns)\n",
    "df = df.drop('id', axis = 1)\n",
    "df.head()"
   ]
  },
  {
   "cell_type": "code",
   "execution_count": 3,
   "metadata": {},
   "outputs": [],
   "source": [
    "# converting type(str) columns to categorical\n",
    "df['coverage'] = df['coverage'].astype('category').cat.codes\n",
    "df['fleet'] = df['fleet'].astype('category').cat.codes\n",
    "df['sex'] = df['sex'].astype('category').cat.codes\n",
    "df['town'] = df['town'].astype('category').cat.codes\n",
    "df['fuel'] = df['fuel'].astype('category').cat.codes\n",
    "df['use'] = df['use'].astype('category').cat.codes"
   ]
  },
  {
   "cell_type": "code",
   "execution_count": 4,
   "metadata": {},
   "outputs": [],
   "source": [
    "exp = df['exp']\n",
    "y = np.array(df['nclaims']/df['exp'])\n",
    "x = np.array(df[['ageph','agec','bm','power','coverage','fuel','sex','fleet','use']])\n",
    "col_names = ['ageph','agec','bm','power','coverage','fuel','sex','fleet','use']"
   ]
  },
  {
   "cell_type": "code",
   "execution_count": 5,
   "metadata": {},
   "outputs": [],
   "source": [
    "from sklearn import metrics\n",
    "from sklearn import tree"
   ]
  },
  {
   "cell_type": "code",
   "execution_count": 24,
   "metadata": {},
   "outputs": [],
   "source": [
    "rgf_dt = tree.DecisionTreeRegressor(criterion=\"mse\", max_depth = 3,\n",
    "                                      max_features = 'auto',\n",
    "                                      min_samples_split = 10,\n",
    "                                      min_samples_leaf = 10,\n",
    "                                      ccp_alpha = 0, splitter=\"best\").fit(x,y,exp)"
   ]
  },
  {
   "cell_type": "code",
   "execution_count": 25,
   "metadata": {},
   "outputs": [
    {
     "name": "stdout",
     "output_type": "stream",
     "text": [
      "|--- bm <= 6.50\n",
      "|   |--- bm <= 1.50\n",
      "|   |   |--- ageph <= 55.50\n",
      "|   |   |   |--- value: [0.12]\n",
      "|   |   |--- ageph >  55.50\n",
      "|   |   |   |--- value: [0.09]\n",
      "|   |--- bm >  1.50\n",
      "|   |   |--- ageph <= 57.50\n",
      "|   |   |   |--- value: [0.15]\n",
      "|   |   |--- ageph >  57.50\n",
      "|   |   |   |--- value: [0.12]\n",
      "|--- bm >  6.50\n",
      "|   |--- bm <= 10.50\n",
      "|   |   |--- ageph <= 26.50\n",
      "|   |   |   |--- value: [0.24]\n",
      "|   |   |--- ageph >  26.50\n",
      "|   |   |   |--- value: [0.19]\n",
      "|   |--- bm >  10.50\n",
      "|   |   |--- agec <= 6.50\n",
      "|   |   |   |--- value: [0.23]\n",
      "|   |   |--- agec >  6.50\n",
      "|   |   |   |--- value: [0.29]\n",
      "\n"
     ]
    }
   ],
   "source": [
    "text_representation = tree.export_text(rgf_dt, feature_names = col_names)\n",
    "print(text_representation)"
   ]
  },
  {
   "cell_type": "markdown",
   "metadata": {},
   "source": [
    "Method ```feature_importances_()``` provides the importance of a feature as the (normalized) total reduction of the criterion brought by that feature. It is also known as the Gini importance."
   ]
  },
  {
   "cell_type": "code",
   "execution_count": 26,
   "metadata": {},
   "outputs": [
    {
     "name": "stdout",
     "output_type": "stream",
     "text": [
      "Feature: ageph, Score: 0.08305980025319501\n",
      "Feature: agec, Score: 0.017491585276182237\n",
      "Feature: bm, Score: 0.8994486144706227\n",
      "Feature: power, Score: 0.0\n",
      "Feature: coverage, Score: 0.0\n",
      "Feature: fuel, Score: 0.0\n",
      "Feature: sex, Score: 0.0\n",
      "Feature: fleet, Score: 0.0\n",
      "Feature: use, Score: 0.0\n"
     ]
    }
   ],
   "source": [
    "# get importance\n",
    "importance = rgf_dt.feature_importances_\n",
    "# summarize feature importance\n",
    "for i,(v,s) in enumerate(zip(col_names, importance)):\n",
    "    print(f'Feature: {v}, Score: {s}')"
   ]
  },
  {
   "cell_type": "markdown",
   "metadata": {},
   "source": [
    "### 7.1 One-way Partial Dependence"
   ]
  },
  {
   "cell_type": "code",
   "execution_count": 19,
   "metadata": {},
   "outputs": [],
   "source": [
    "from sklearn.inspection import plot_partial_dependence\n",
    "df_x = df[['ageph','agec','bm','power','coverage','fuel','sex','fleet','use']]"
   ]
  },
  {
   "cell_type": "code",
   "execution_count": 31,
   "metadata": {},
   "outputs": [
    {
     "data": {
      "image/png": "[encoded data removed]",
      "text/plain": [
       "<Figure size 864x432 with 3 Axes>"
      ]
     },
     "metadata": {
      "needs_background": "light"
     },
     "output_type": "display_data"
    }
   ],
   "source": [
    "%matplotlib inline\n",
    "fig, ax = plt.subplots(figsize=(12, 6))\n",
    "ax.set_title(\"Decision Tree\")\n",
    "tree_disp = plot_partial_dependence(rgf_dt, df_x, ['ageph','bm'], kind='average', ax=ax, line_kw={'color': 'red'})"
   ]
  },
  {
   "cell_type": "markdown",
   "metadata": {},
   "source": [
    "### 7.2 Two-way Partial Dependence"
   ]
  },
  {
   "cell_type": "code",
   "execution_count": 21,
   "metadata": {},
   "outputs": [
    {
     "data": {
      "image/png": "[encoded data removed]",
      "text/plain": [
       "<Figure size 864x432 with 2 Axes>"
      ]
     },
     "metadata": {
      "needs_background": "light"
     },
     "output_type": "display_data"
    }
   ],
   "source": [
    "%matplotlib inline\n",
    "fig, ax = plt.subplots(figsize=(12, 6))\n",
    "ax.set_title(\"Decision Tree\")\n",
    "tree_disp = plot_partial_dependence(rgf_dt, df_x, [('ageph','bm')], kind='average', ax=ax, line_kw={'color': 'red'})"
   ]
  }
 ],
 "metadata": {
  "kernelspec": {
   "display_name": "Python 3",
   "language": "python",
   "name": "python3"
  },
  "language_info": {
   "codemirror_mode": {
    "name": "ipython",
    "version": 3
   },
   "file_extension": ".py",
   "mimetype": "text/x-python",
   "name": "python",
   "nbconvert_exporter": "python",
   "pygments_lexer": "ipython3",
   "version": "3.7.6"
  }
 },
 "nbformat": 4,
 "nbformat_minor": 4
}
