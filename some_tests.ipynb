{
 "cells": [
  {
   "cell_type": "code",
   "execution_count": 1,
   "metadata": {},
   "outputs": [],
   "source": [
    "import matplotlib.pyplot as plt\n",
    "from sklearn import tree\n",
    "import pandas as pd\n",
    "import numpy as np\n",
    "import os"
   ]
  },
  {
   "cell_type": "code",
   "execution_count": 2,
   "metadata": {},
   "outputs": [
    {
     "data": {
      "text/html": [
       "<div>\n",
       "<style scoped>\n",
       "    .dataframe tbody tr th:only-of-type {\n",
       "        vertical-align: middle;\n",
       "    }\n",
       "\n",
       "    .dataframe tbody tr th {\n",
       "        vertical-align: top;\n",
       "    }\n",
       "\n",
       "    .dataframe thead th {\n",
       "        text-align: right;\n",
       "    }\n",
       "</style>\n",
       "<table border=\"1\" class=\"dataframe\">\n",
       "  <thead>\n",
       "    <tr style=\"text-align: right;\">\n",
       "      <th></th>\n",
       "      <th>IDpol</th>\n",
       "      <th>ClaimNb</th>\n",
       "      <th>Exposure</th>\n",
       "      <th>Area</th>\n",
       "      <th>VehPower</th>\n",
       "      <th>VehAge</th>\n",
       "      <th>DrivAge</th>\n",
       "      <th>BonusMalus</th>\n",
       "      <th>VehBrand</th>\n",
       "      <th>VehGas</th>\n",
       "      <th>Density</th>\n",
       "      <th>Region</th>\n",
       "    </tr>\n",
       "  </thead>\n",
       "  <tbody>\n",
       "    <tr>\n",
       "      <th>0</th>\n",
       "      <td>1.0</td>\n",
       "      <td>1.0</td>\n",
       "      <td>0.10000</td>\n",
       "      <td>D</td>\n",
       "      <td>5.0</td>\n",
       "      <td>0.0</td>\n",
       "      <td>55.0</td>\n",
       "      <td>50.0</td>\n",
       "      <td>B12</td>\n",
       "      <td>Regular</td>\n",
       "      <td>1217.0</td>\n",
       "      <td>R82</td>\n",
       "    </tr>\n",
       "    <tr>\n",
       "      <th>1</th>\n",
       "      <td>3.0</td>\n",
       "      <td>1.0</td>\n",
       "      <td>0.77000</td>\n",
       "      <td>D</td>\n",
       "      <td>5.0</td>\n",
       "      <td>0.0</td>\n",
       "      <td>55.0</td>\n",
       "      <td>50.0</td>\n",
       "      <td>B12</td>\n",
       "      <td>Regular</td>\n",
       "      <td>1217.0</td>\n",
       "      <td>R82</td>\n",
       "    </tr>\n",
       "    <tr>\n",
       "      <th>2</th>\n",
       "      <td>5.0</td>\n",
       "      <td>1.0</td>\n",
       "      <td>0.75000</td>\n",
       "      <td>B</td>\n",
       "      <td>6.0</td>\n",
       "      <td>2.0</td>\n",
       "      <td>52.0</td>\n",
       "      <td>50.0</td>\n",
       "      <td>B12</td>\n",
       "      <td>Diesel</td>\n",
       "      <td>54.0</td>\n",
       "      <td>R22</td>\n",
       "    </tr>\n",
       "    <tr>\n",
       "      <th>3</th>\n",
       "      <td>10.0</td>\n",
       "      <td>1.0</td>\n",
       "      <td>0.09000</td>\n",
       "      <td>B</td>\n",
       "      <td>7.0</td>\n",
       "      <td>0.0</td>\n",
       "      <td>46.0</td>\n",
       "      <td>50.0</td>\n",
       "      <td>B12</td>\n",
       "      <td>Diesel</td>\n",
       "      <td>76.0</td>\n",
       "      <td>R72</td>\n",
       "    </tr>\n",
       "    <tr>\n",
       "      <th>4</th>\n",
       "      <td>11.0</td>\n",
       "      <td>1.0</td>\n",
       "      <td>0.84000</td>\n",
       "      <td>B</td>\n",
       "      <td>7.0</td>\n",
       "      <td>0.0</td>\n",
       "      <td>46.0</td>\n",
       "      <td>50.0</td>\n",
       "      <td>B12</td>\n",
       "      <td>Diesel</td>\n",
       "      <td>76.0</td>\n",
       "      <td>R72</td>\n",
       "    </tr>\n",
       "    <tr>\n",
       "      <th>...</th>\n",
       "      <td>...</td>\n",
       "      <td>...</td>\n",
       "      <td>...</td>\n",
       "      <td>...</td>\n",
       "      <td>...</td>\n",
       "      <td>...</td>\n",
       "      <td>...</td>\n",
       "      <td>...</td>\n",
       "      <td>...</td>\n",
       "      <td>...</td>\n",
       "      <td>...</td>\n",
       "      <td>...</td>\n",
       "    </tr>\n",
       "    <tr>\n",
       "      <th>678008</th>\n",
       "      <td>6114326.0</td>\n",
       "      <td>0.0</td>\n",
       "      <td>0.00274</td>\n",
       "      <td>E</td>\n",
       "      <td>4.0</td>\n",
       "      <td>0.0</td>\n",
       "      <td>54.0</td>\n",
       "      <td>50.0</td>\n",
       "      <td>B12</td>\n",
       "      <td>Regular</td>\n",
       "      <td>3317.0</td>\n",
       "      <td>R93</td>\n",
       "    </tr>\n",
       "    <tr>\n",
       "      <th>678009</th>\n",
       "      <td>6114327.0</td>\n",
       "      <td>0.0</td>\n",
       "      <td>0.00274</td>\n",
       "      <td>E</td>\n",
       "      <td>4.0</td>\n",
       "      <td>0.0</td>\n",
       "      <td>41.0</td>\n",
       "      <td>95.0</td>\n",
       "      <td>B12</td>\n",
       "      <td>Regular</td>\n",
       "      <td>9850.0</td>\n",
       "      <td>R11</td>\n",
       "    </tr>\n",
       "    <tr>\n",
       "      <th>678010</th>\n",
       "      <td>6114328.0</td>\n",
       "      <td>0.0</td>\n",
       "      <td>0.00274</td>\n",
       "      <td>D</td>\n",
       "      <td>6.0</td>\n",
       "      <td>2.0</td>\n",
       "      <td>45.0</td>\n",
       "      <td>50.0</td>\n",
       "      <td>B12</td>\n",
       "      <td>Diesel</td>\n",
       "      <td>1323.0</td>\n",
       "      <td>R82</td>\n",
       "    </tr>\n",
       "    <tr>\n",
       "      <th>678011</th>\n",
       "      <td>6114329.0</td>\n",
       "      <td>0.0</td>\n",
       "      <td>0.00274</td>\n",
       "      <td>B</td>\n",
       "      <td>4.0</td>\n",
       "      <td>0.0</td>\n",
       "      <td>60.0</td>\n",
       "      <td>50.0</td>\n",
       "      <td>B12</td>\n",
       "      <td>Regular</td>\n",
       "      <td>95.0</td>\n",
       "      <td>R26</td>\n",
       "    </tr>\n",
       "    <tr>\n",
       "      <th>678012</th>\n",
       "      <td>6114330.0</td>\n",
       "      <td>0.0</td>\n",
       "      <td>0.00274</td>\n",
       "      <td>B</td>\n",
       "      <td>7.0</td>\n",
       "      <td>6.0</td>\n",
       "      <td>29.0</td>\n",
       "      <td>54.0</td>\n",
       "      <td>B12</td>\n",
       "      <td>Diesel</td>\n",
       "      <td>65.0</td>\n",
       "      <td>R72</td>\n",
       "    </tr>\n",
       "  </tbody>\n",
       "</table>\n",
       "<p>678013 rows × 12 columns</p>\n",
       "</div>"
      ],
      "text/plain": [
       "            IDpol  ClaimNb  Exposure Area  VehPower  VehAge  DrivAge  \\\n",
       "0             1.0      1.0   0.10000    D       5.0     0.0     55.0   \n",
       "1             3.0      1.0   0.77000    D       5.0     0.0     55.0   \n",
       "2             5.0      1.0   0.75000    B       6.0     2.0     52.0   \n",
       "3            10.0      1.0   0.09000    B       7.0     0.0     46.0   \n",
       "4            11.0      1.0   0.84000    B       7.0     0.0     46.0   \n",
       "...           ...      ...       ...  ...       ...     ...      ...   \n",
       "678008  6114326.0      0.0   0.00274    E       4.0     0.0     54.0   \n",
       "678009  6114327.0      0.0   0.00274    E       4.0     0.0     41.0   \n",
       "678010  6114328.0      0.0   0.00274    D       6.0     2.0     45.0   \n",
       "678011  6114329.0      0.0   0.00274    B       4.0     0.0     60.0   \n",
       "678012  6114330.0      0.0   0.00274    B       7.0     6.0     29.0   \n",
       "\n",
       "        BonusMalus VehBrand   VehGas  Density Region  \n",
       "0             50.0      B12  Regular   1217.0    R82  \n",
       "1             50.0      B12  Regular   1217.0    R82  \n",
       "2             50.0      B12   Diesel     54.0    R22  \n",
       "3             50.0      B12   Diesel     76.0    R72  \n",
       "4             50.0      B12   Diesel     76.0    R72  \n",
       "...            ...      ...      ...      ...    ...  \n",
       "678008        50.0      B12  Regular   3317.0    R93  \n",
       "678009        95.0      B12  Regular   9850.0    R11  \n",
       "678010        50.0      B12   Diesel   1323.0    R82  \n",
       "678011        50.0      B12  Regular     95.0    R26  \n",
       "678012        54.0      B12   Diesel     65.0    R72  \n",
       "\n",
       "[678013 rows x 12 columns]"
      ]
     },
     "execution_count": 2,
     "metadata": {},
     "output_type": "execute_result"
    }
   ],
   "source": [
    "from sklearn.datasets import fetch_openml\n",
    "df = fetch_openml(data_id=41214, as_frame=True).frame\n",
    "df"
   ]
  },
  {
   "cell_type": "code",
   "execution_count": 3,
   "metadata": {},
   "outputs": [
    {
     "name": "stdout",
     "output_type": "stream",
     "text": [
      "Average Frequency = 0.10070308464041304\n",
      "Fraction of exposure with zero claims = 93.9%\n"
     ]
    },
    {
     "data": {
      "image/png": "[encoded data removed]",
      "text/plain": [
       "<Figure size 1152x288 with 3 Axes>"
      ]
     },
     "metadata": {
      "needs_background": "light"
     },
     "output_type": "display_data"
    }
   ],
   "source": [
    "%matplotlib inline\n",
    "df[\"Frequency\"] = df[\"ClaimNb\"] / df[\"Exposure\"]\n",
    "\n",
    "print(\n",
    "    \"Average Frequency = {}\".format(np.average(df[\"Frequency\"], weights=df[\"Exposure\"]))\n",
    ")\n",
    "\n",
    "print(\n",
    "    \"Fraction of exposure with zero claims = {0:.1%}\".format(\n",
    "        df.loc[df[\"ClaimNb\"] == 0, \"Exposure\"].sum() / df[\"Exposure\"].sum()\n",
    "    )\n",
    ")\n",
    "\n",
    "fig, (ax0, ax1, ax2) = plt.subplots(ncols=3, figsize=(16, 4))\n",
    "ax0.set_title(\"Number of claims\")\n",
    "_ = df[\"ClaimNb\"].hist(bins=30, log=True, ax=ax0)\n",
    "ax1.set_title(\"Exposure in years\")\n",
    "_ = df[\"Exposure\"].hist(bins=30, log=True, ax=ax1)\n",
    "ax2.set_title(\"Frequency (number of claims per year)\")\n",
    "_ = df[\"Frequency\"].hist(bins=30, log=True, ax=ax2)"
   ]
  },
  {
   "cell_type": "code",
   "execution_count": 4,
   "metadata": {},
   "outputs": [],
   "source": [
    "from sklearn.pipeline import make_pipeline\n",
    "from sklearn.preprocessing import FunctionTransformer, OneHotEncoder\n",
    "from sklearn.preprocessing import StandardScaler, KBinsDiscretizer\n",
    "from sklearn.compose import ColumnTransformer\n",
    "\n",
    "\n",
    "log_scale_transformer = make_pipeline(\n",
    "    FunctionTransformer(np.log, validate=False), StandardScaler()\n",
    ")\n",
    "\n",
    "linear_model_preprocessor = ColumnTransformer(\n",
    "    [\n",
    "        (\"passthrough_numeric\", \"passthrough\", [\"BonusMalus\"]),\n",
    "        (\"binned_numeric\", KBinsDiscretizer(n_bins=10), [\"VehAge\", \"DrivAge\"]),\n",
    "        (\"log_scaled_numeric\", log_scale_transformer, [\"Density\"]),\n",
    "        (\n",
    "            \"onehot_categorical\",\n",
    "            OneHotEncoder(),\n",
    "            [\"VehBrand\", \"VehPower\", \"VehGas\", \"Region\", \"Area\"],\n",
    "        ),\n",
    "    ],\n",
    "    remainder=\"drop\",\n",
    ")"
   ]
  },
  {
   "cell_type": "code",
   "execution_count": 5,
   "metadata": {},
   "outputs": [],
   "source": [
    "from sklearn.model_selection import train_test_split\n",
    "from sklearn import metrics\n",
    "from sklearn import tree"
   ]
  },
  {
   "cell_type": "code",
   "execution_count": 6,
   "metadata": {},
   "outputs": [],
   "source": [
    "# converting type(str) columns to categorical\n",
    "df['Area'] = df['Area'].astype('category').cat.codes\n",
    "df['VehGas'] = df['VehGas'].astype('category').cat.codes\n",
    "df['VehBrand'] = df['VehBrand'].astype('category').cat.codes\n",
    "df['Region'] = df['Region'].astype('category').cat.codes"
   ]
  },
  {
   "cell_type": "code",
   "execution_count": 7,
   "metadata": {},
   "outputs": [],
   "source": [
    "df_train, df_test = train_test_split(df, test_size=0.33, random_state=0)"
   ]
  },
  {
   "cell_type": "code",
   "execution_count": 69,
   "metadata": {},
   "outputs": [],
   "source": [
    "frequency_train = df_train.Frequency\n",
    "exposure_train = df_train.Exposure\n",
    "df_1 = df_train.drop(['ClaimNb','Frequency','Exposure'], 1)"
   ]
  },
  {
   "cell_type": "code",
   "execution_count": 72,
   "metadata": {},
   "outputs": [],
   "source": [
    "rgf_dt = tree.DecisionTreeRegressor(criterion=\"mse\", max_depth = 3,\n",
    "                                      min_samples_split = 10,\n",
    "                                      min_samples_leaf = 10,\n",
    "                                      ccp_alpha = 0, splitter=\"best\").fit(df_1,frequency_train,exposure_train)"
   ]
  },
  {
   "cell_type": "code",
   "execution_count": 98,
   "metadata": {},
   "outputs": [],
   "source": [
    "pred = rgf_dt.predict(df_1)"
   ]
  },
  {
   "cell_type": "code",
   "execution_count": 112,
   "metadata": {},
   "outputs": [
    {
     "data": {
      "image/png": "[encoded data removed]",
      "text/plain": [
       "<Figure size 432x288 with 2 Axes>"
      ]
     },
     "metadata": {
      "needs_background": "light"
     },
     "output_type": "display_data"
    }
   ],
   "source": [
    "fig, ax = plt.subplots(nrows=1, ncols=2)\n",
    "frequency_train.hist(bins=np.linspace(-1, 30, n_bins), ax = ax[0])\n",
    "pd.Series(pred).hist(bins=np.linspace(-1, 30, n_bins), ax = ax[1])\n",
    "axes[row_idx, 0].set_title(\"Data\")\n",
    "axes[row_idx, 0].set_yscale(\"log\")\n",
    "axes[row_idx, 0].set_xlabel(\"y (observed Frequency)\")\n",
    "axes[row_idx, 0].set_ylim([10, 500])\n",
    "axes[row_idx, 0].set_xlim([1, 10])\n",
    "plt.ticklabel_format(axis=\"y\")"
   ]
  },
  {
   "cell_type": "code",
   "execution_count": null,
   "metadata": {},
   "outputs": [],
   "source": [
    "for row_idx, label, df in zip(range(2), [\"train\", \"test\"], [df_train, df_test]):\n",
    "    df[\"Frequency\"].hist(bins=np.linspace(-1, 30, n_bins), ax=axes[row_idx, 0])\n",
    "\n",
    "    axes[row_idx, 0].set_title(\"Data\")\n",
    "    axes[row_idx, 0].set_yscale(\"log\")\n",
    "    axes[row_idx, 0].set_xlabel(\"y (observed Frequency)\")\n",
    "    axes[row_idx, 0].set_ylim([1e1, 5e5])\n",
    "    axes[row_idx, 0].set_ylabel(label + \" samples\")"
   ]
  },
  {
   "cell_type": "code",
   "execution_count": 73,
   "metadata": {},
   "outputs": [
    {
     "name": "stdout",
     "output_type": "stream",
     "text": [
      "|--- IDpol <= 24931.50\n",
      "|   |--- IDpol <= 14303.00\n",
      "|   |   |--- IDpol <= 10472.50\n",
      "|   |   |   |--- value: [3.34]\n",
      "|   |   |--- IDpol >  10472.50\n",
      "|   |   |   |--- value: [24.76]\n",
      "|   |--- IDpol >  14303.00\n",
      "|   |   |--- VehAge <= 0.50\n",
      "|   |   |   |--- value: [3.07]\n",
      "|   |   |--- VehAge >  0.50\n",
      "|   |   |   |--- value: [1.37]\n",
      "|--- IDpol >  24931.50\n",
      "|   |--- BonusMalus <= 57.50\n",
      "|   |   |--- Density <= 400.50\n",
      "|   |   |   |--- value: [0.05]\n",
      "|   |   |--- Density >  400.50\n",
      "|   |   |   |--- value: [0.06]\n",
      "|   |--- BonusMalus >  57.50\n",
      "|   |   |--- BonusMalus <= 95.50\n",
      "|   |   |   |--- value: [0.11]\n",
      "|   |   |--- BonusMalus >  95.50\n",
      "|   |   |   |--- value: [0.26]\n",
      "\n"
     ]
    }
   ],
   "source": [
    "text_representation = tree.export_text(rgf_dt, feature_names = list(df_1.columns))\n",
    "print(text_representation)"
   ]
  },
  {
   "cell_type": "code",
   "execution_count": 113,
   "metadata": {},
   "outputs": [],
   "source": [
    "rgf_dt_1 = tree.DecisionTreeRegressor(criterion=\"poisson\", max_depth = 3,\n",
    "                                      min_samples_split = 10,\n",
    "                                      min_samples_leaf = 10,\n",
    "                                      ccp_alpha = 0, splitter=\"best\").fit(np.array(df_1),frequency_train,exposure_train)"
   ]
  },
  {
   "cell_type": "code",
   "execution_count": 114,
   "metadata": {},
   "outputs": [],
   "source": [
    "pred_1 = rgf_dt_1.predict(df_1)"
   ]
  },
  {
   "cell_type": "code",
   "execution_count": 115,
   "metadata": {},
   "outputs": [
    {
     "data": {
      "text/plain": [
       "array([0.08580983, 0.08580983, 0.08580983, ..., 0.08580983, 0.08580983,\n",
       "       0.08580983])"
      ]
     },
     "execution_count": 115,
     "metadata": {},
     "output_type": "execute_result"
    }
   ],
   "source": [
    "pred_1"
   ]
  },
  {
   "cell_type": "code",
   "execution_count": 116,
   "metadata": {},
   "outputs": [
    {
     "data": {
      "image/png": "[encoded data removed]",
      "text/plain": [
       "<Figure size 432x288 with 2 Axes>"
      ]
     },
     "metadata": {
      "needs_background": "light"
     },
     "output_type": "display_data"
    }
   ],
   "source": [
    "fig, ax = plt.subplots(nrows=1, ncols=2)\n",
    "frequency_train.hist(bins=np.linspace(-1, 30, n_bins), ax = ax[0])\n",
    "pd.Series(pred_1).hist(bins=np.linspace(-1, 30, n_bins), ax = ax[1])\n",
    "axes[row_idx, 0].set_title(\"Data\")\n",
    "axes[row_idx, 0].set_yscale(\"log\")\n",
    "axes[row_idx, 0].set_xlabel(\"y (observed Frequency)\")\n",
    "axes[row_idx, 0].set_ylim([1e1, 5e5])\n",
    "plt.ticklabel_format(axis=\"y\", style=\"sci\", scilimits=(0,0))"
   ]
  },
  {
   "cell_type": "code",
   "execution_count": 75,
   "metadata": {},
   "outputs": [
    {
     "name": "stdout",
     "output_type": "stream",
     "text": [
      "|--- IDpol <= 14303.00\n",
      "|   |--- IDpol <= 11266.00\n",
      "|   |   |--- IDpol <= 11198.50\n",
      "|   |   |   |--- value: [3.47]\n",
      "|   |   |--- IDpol >  11198.50\n",
      "|   |   |   |--- value: [36.36]\n",
      "|   |--- IDpol >  11266.00\n",
      "|   |   |--- DrivAge <= 35.50\n",
      "|   |   |   |--- value: [91.62]\n",
      "|   |   |--- DrivAge >  35.50\n",
      "|   |   |   |--- value: [41.45]\n",
      "|--- IDpol >  14303.00\n",
      "|   |--- IDpol <= 16734.00\n",
      "|   |   |--- value: [1.74]\n",
      "|   |--- IDpol >  16734.00\n",
      "|   |   |--- BonusMalus <= 184.00\n",
      "|   |   |   |--- value: [0.09]\n",
      "|   |   |--- BonusMalus >  184.00\n",
      "|   |   |   |--- value: [1.54]\n",
      "\n"
     ]
    }
   ],
   "source": [
    "text_representation = tree.export_text(rgf_dt_1, feature_names = list(df_1.columns))\n",
    "print(text_representation)"
   ]
  },
  {
   "cell_type": "code",
   "execution_count": 76,
   "metadata": {},
   "outputs": [],
   "source": [
    "from sklearn.dummy import DummyRegressor\n",
    "from sklearn.pipeline import Pipeline\n",
    "from sklearn.model_selection import train_test_split\n",
    "\n",
    "df_train, df_test = train_test_split(df, test_size=0.33, random_state=0)\n",
    "\n",
    "dummy = Pipeline(\n",
    "    [\n",
    "        (\"preprocessor\", linear_model_preprocessor),\n",
    "        (\"regressor\", DummyRegressor(strategy=\"mean\")),\n",
    "    ]\n",
    ").fit(df_train, df_train[\"Frequency\"], regressor__sample_weight=df_train[\"Exposure\"])"
   ]
  },
  {
   "cell_type": "code",
   "execution_count": 77,
   "metadata": {},
   "outputs": [
    {
     "name": "stdout",
     "output_type": "stream",
     "text": [
      "Constant mean frequency evaluation:\n",
      "MSE: 0.571\n",
      "MAE: 0.189\n",
      "mean Poisson deviance: 0.631\n"
     ]
    }
   ],
   "source": [
    "from sklearn.dummy import DummyRegressor\n",
    "from sklearn.pipeline import Pipeline\n",
    "from sklearn.model_selection import train_test_split\n",
    "\n",
    "df_train, df_test = train_test_split(df, test_size=0.33, random_state=0)\n",
    "\n",
    "dummy = Pipeline(\n",
    "    [\n",
    "        (\"preprocessor\", linear_model_preprocessor),\n",
    "        (\"regressor\", DummyRegressor(strategy=\"mean\")),\n",
    "    ]\n",
    ").fit(df_train, df_train[\"Frequency\"], regressor__sample_weight=df_train[\"Exposure\"])\n",
    "\n",
    "#Let’s compute the performance of this constant prediction baseline with 3 different regression metrics:\n",
    "\n",
    "from sklearn.metrics import mean_squared_error\n",
    "from sklearn.metrics import mean_absolute_error\n",
    "from sklearn.metrics import mean_poisson_deviance\n",
    "\n",
    "\n",
    "def score_estimator(estimator, df_test):\n",
    "    \"\"\"Score an estimator on the test set.\"\"\"\n",
    "    y_pred = estimator.predict(df_test)\n",
    "\n",
    "    print(\n",
    "        \"MSE: %.3f\"\n",
    "        % mean_squared_error(\n",
    "            df_test[\"Frequency\"], y_pred, sample_weight=df_test[\"Exposure\"]\n",
    "        )\n",
    "    )\n",
    "    print(\n",
    "        \"MAE: %.3f\"\n",
    "        % mean_absolute_error(\n",
    "            df_test[\"Frequency\"], y_pred, sample_weight=df_test[\"Exposure\"]\n",
    "        )\n",
    "    )\n",
    "\n",
    "    # Ignore non-positive predictions, as they are invalid for\n",
    "    # the Poisson deviance.\n",
    "    mask = y_pred > 0\n",
    "    if (~mask).any():\n",
    "        n_masked, n_samples = (~mask).sum(), mask.shape[0]\n",
    "        print(\n",
    "            \"WARNING: Estimator yields invalid, non-positive predictions \"\n",
    "            f\" for {n_masked} samples out of {n_samples}. These predictions \"\n",
    "            \"are ignored when computing the Poisson deviance.\"\n",
    "        )\n",
    "\n",
    "    print(\n",
    "        \"mean Poisson deviance: %.3f\"\n",
    "        % mean_poisson_deviance(\n",
    "            df_test[\"Frequency\"][mask],\n",
    "            y_pred[mask],\n",
    "            sample_weight=df_test[\"Exposure\"][mask],\n",
    "        )\n",
    "    )\n",
    "\n",
    "\n",
    "print(\"Constant mean frequency evaluation:\")\n",
    "score_estimator(dummy, df_test)"
   ]
  },
  {
   "cell_type": "code",
   "execution_count": 78,
   "metadata": {},
   "outputs": [],
   "source": [
    "from sklearn.linear_model import Ridge\n",
    "\n",
    "\n",
    "ridge_glm = Pipeline(\n",
    "    [\n",
    "        (\"preprocessor\", linear_model_preprocessor),\n",
    "        (\"regressor\", Ridge(alpha=1e-6)),\n",
    "    ]\n",
    ").fit(df_train, df_train[\"Frequency\"], regressor__sample_weight=df_train[\"Exposure\"])"
   ]
  },
  {
   "cell_type": "code",
   "execution_count": 79,
   "metadata": {},
   "outputs": [
    {
     "name": "stdout",
     "output_type": "stream",
     "text": [
      "Ridge evaluation:\n",
      "MSE: 0.567\n",
      "MAE: 0.178\n",
      "WARNING: Estimator yields invalid, non-positive predictions  for 1066 samples out of 149909. These predictions are ignored when computing the Poisson deviance.\n",
      "mean Poisson deviance: 0.607\n"
     ]
    }
   ],
   "source": [
    "print(\"Ridge evaluation:\")\n",
    "score_estimator(ridge_glm, df_test)"
   ]
  },
  {
   "cell_type": "code",
   "execution_count": 80,
   "metadata": {},
   "outputs": [
    {
     "name": "stdout",
     "output_type": "stream",
     "text": [
      "PoissonRegressor evaluation:\n",
      "MSE: 0.567\n",
      "MAE: 0.186\n",
      "mean Poisson deviance: 0.600\n"
     ]
    }
   ],
   "source": [
    "from sklearn.linear_model import PoissonRegressor\n",
    "\n",
    "n_samples = df_train.shape[0]\n",
    "\n",
    "poisson_glm = Pipeline(\n",
    "    [\n",
    "        (\"preprocessor\", linear_model_preprocessor),\n",
    "        (\"regressor\", PoissonRegressor(alpha=1e-12, max_iter=300)),\n",
    "    ]\n",
    ")\n",
    "poisson_glm.fit(\n",
    "    df_train, df_train[\"Frequency\"], regressor__sample_weight=df_train[\"Exposure\"]\n",
    ")\n",
    "\n",
    "print(\"PoissonRegressor evaluation:\")\n",
    "score_estimator(poisson_glm, df_test)"
   ]
  },
  {
   "cell_type": "code",
   "execution_count": 81,
   "metadata": {},
   "outputs": [
    {
     "name": "stdout",
     "output_type": "stream",
     "text": [
      "Poisson Gradient Boosted Trees evaluation:\n",
      "MSE: 0.566\n",
      "MAE: 0.184\n",
      "mean Poisson deviance: 0.584\n"
     ]
    }
   ],
   "source": [
    "from sklearn.experimental import enable_hist_gradient_boosting\n",
    "from sklearn.ensemble import HistGradientBoostingRegressor\n",
    "from sklearn.preprocessing import OrdinalEncoder\n",
    "\n",
    "\n",
    "tree_preprocessor = ColumnTransformer(\n",
    "    [\n",
    "        (\n",
    "            \"categorical\",\n",
    "            OrdinalEncoder(),\n",
    "            [\"VehBrand\", \"VehPower\", \"VehGas\", \"Region\", \"Area\"],\n",
    "        ),\n",
    "        (\"numeric\", \"passthrough\", [\"VehAge\", \"DrivAge\", \"BonusMalus\", \"Density\"]),\n",
    "    ],\n",
    "    remainder=\"drop\",\n",
    ")\n",
    "poisson_gbrt = Pipeline(\n",
    "    [\n",
    "        (\"preprocessor\", tree_preprocessor),\n",
    "        (\n",
    "            \"regressor\",\n",
    "            HistGradientBoostingRegressor(loss=\"poisson\", max_leaf_nodes=128),\n",
    "        ),\n",
    "    ]\n",
    ")\n",
    "poisson_gbrt.fit(\n",
    "    df_train, df_train[\"Frequency\"], regressor__sample_weight=df_train[\"Exposure\"]\n",
    ")\n",
    "\n",
    "print(\"Poisson Gradient Boosted Trees evaluation:\")\n",
    "score_estimator(poisson_gbrt, df_test)"
   ]
  },
  {
   "cell_type": "code",
   "execution_count": 90,
   "metadata": {},
   "outputs": [
    {
     "data": {
      "image/png": "[encoded data removed]",
      "text/plain": [
       "<Figure size 1152x432 with 8 Axes>"
      ]
     },
     "metadata": {
      "needs_background": "light"
     },
     "output_type": "display_data"
    }
   ],
   "source": [
    "fig, axes = plt.subplots(nrows=2, ncols=4, figsize=(16, 6), sharey=True)\n",
    "fig.subplots_adjust(bottom=0.2)\n",
    "n_bins = 20\n",
    "for row_idx, label, df in zip(range(2), [\"train\", \"test\"], [df_train, df_test]):\n",
    "    df[\"Frequency\"].hist(bins=np.linspace(-1, 30, n_bins), ax=axes[row_idx, 0])\n",
    "\n",
    "    axes[row_idx, 0].set_title(\"Data\")\n",
    "    axes[row_idx, 0].set_yscale(\"log\")\n",
    "    axes[row_idx, 0].set_xlabel(\"y (observed Frequency)\")\n",
    "    axes[row_idx, 0].set_ylim([1e1, 5e5])\n",
    "    axes[row_idx, 0].set_ylabel(label + \" samples\")\n",
    "\n",
    "    for idx, model in enumerate([ridge_glm, poisson_glm, poisson_gbrt]):\n",
    "        \n",
    "        y_pred = model.predict(df)\n",
    "\n",
    "        pd.Series(y_pred).hist(\n",
    "            bins=np.linspace(-1, 4, n_bins), ax=axes[row_idx, idx + 1]\n",
    "        )\n",
    "        axes[row_idx, idx + 1].set(\n",
    "            title=model[-1].__class__.__name__,\n",
    "            yscale=\"log\",\n",
    "            xlabel=\"y_pred (predicted expected Frequency)\",\n",
    "        )\n",
    "plt.tight_layout()"
   ]
  },
  {
   "cell_type": "code",
   "execution_count": null,
   "metadata": {},
   "outputs": [],
   "source": []
  }
 ],
 "metadata": {
  "kernelspec": {
   "display_name": "Python 3",
   "language": "python",
   "name": "python3"
  },
  "language_info": {
   "codemirror_mode": {
    "name": "ipython",
    "version": 3
   },
   "file_extension": ".py",
   "mimetype": "text/x-python",
   "name": "python",
   "nbconvert_exporter": "python",
   "pygments_lexer": "ipython3",
   "version": "3.7.6"
  }
 },
 "nbformat": 4,
 "nbformat_minor": 4
}
